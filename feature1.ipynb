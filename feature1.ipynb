{
 "cells": [
  {
   "cell_type": "code",
   "execution_count": 1,
   "metadata": {
    "collapsed": true
   },
   "outputs": [],
   "source": [
    "import math\n",
    "import numpy as np\n",
    "import pandas as pd\n",
    "import matplotlib.pyplot as plt\n",
    "import xgboost as xgb\n",
    "from sklearn.decomposition import LatentDirichletAllocation, NMF, TruncatedSVD\n",
    "from sklearn.feature_extraction.text import CountVectorizer, TfidfVectorizer\n",
    "from sklearn.metrics import f1_score, fbeta_score, precision_score, recall_score, roc_auc_score\n",
    "from sklearn.model_selection import StratifiedKFold\n",
    "from sklearn.preprocessing import LabelEncoder\n",
    "from tqdm import tqdm\n",
    "import warnings\n",
    "from datetime import datetime\n",
    "import lightgbm as lgb\n",
    "\n",
    "warnings.filterwarnings('ignore')"
   ]
  },
  {
   "cell_type": "code",
   "execution_count": 2,
   "metadata": {
    "collapsed": true
   },
   "outputs": [],
   "source": [
    "df = pd.read_pickle('train_16159.pkl')\n",
    "df_ = pd.read_csv('label.csv')\n",
    "pos_uin = list(df_[df_['label'] == 1]['uin'])\n",
    "neg_uin = list(df_[df_['label'] == 0]['uin'])\n",
    "sample_uin = pos_uin + neg_uin[:8728]\n",
    "# sample_uin = pos_uin[:50] + neg_uin[:50]\n",
    "df = df[df['uin'].isin(sample_uin)]"
   ]
  },
  {
   "cell_type": "code",
   "execution_count": 24,
   "metadata": {},
   "outputs": [
    {
     "name": "stderr",
     "output_type": "stream",
     "text": [
      "100%|████████████████████████████████████| 10000/10000 [17:53<00:00,  9.32it/s]\n"
     ]
    }
   ],
   "source": [
    "df_temp = df.groupby(['uin', 'kill_time'])['deltaX'].agg([\n",
    "    ('deltaX_range_diff', 'diff'), \n",
    "     ])\n",
    "df['deltaX_range_diff'] = df_temp['deltaX_range_diff']\n",
    "agg_list = []\n",
    "for uin in tqdm(set(df['uin'])):\n",
    "    df__ = df[df['uin'] == uin][['uin', 'kill_time', 'deltaX_range_diff']]\n",
    "    df_temp = df__.groupby(['kill_time'])['deltaX_range_diff'].agg([\n",
    "    ('deltaX_range_max', 'max'),     \n",
    "    ('deltaX_range_min', 'min'),\n",
    "    ('deltaX_range_mean', 'mean'),\n",
    "    ('deltaX_range_std', 'std'),\n",
    "    ('deltaX_range_skew', 'skew'),\n",
    "        ]).reset_index()\n",
    "    df_temp['uin'] = uin\n",
    "    agg_list.append(df_temp)\n",
    "del df['deltaX_range_diff']\n",
    "\n",
    "df_temp = pd.concat(agg_list, axis=0)\n",
    "del agg_list\n",
    "df_ = pd.merge(df_, df_temp, on=['uin'], how='left')\n",
    "del df_temp"
   ]
  },
  {
   "cell_type": "code",
   "execution_count": 25,
   "metadata": {},
   "outputs": [
    {
     "name": "stderr",
     "output_type": "stream",
     "text": [
      "100%|████████████████████████████████████| 10000/10000 [17:27<00:00,  9.55it/s]\n"
     ]
    }
   ],
   "source": [
    "df_temp = df.groupby(['uin', 'kill_time'])['deltaY'].agg([\n",
    "    ('deltaY_range_diff', 'diff'), \n",
    "     ])\n",
    "df['deltaY_range_diff'] = df_temp['deltaY_range_diff']\n",
    "agg_list = []\n",
    "for uin in tqdm(set(df['uin'])):\n",
    "    df__ = df[df['uin'] == uin][['kill_time', 'deltaY_range_diff']]\n",
    "    df_temp = df__.groupby(['kill_time'])['deltaY_range_diff'].agg([\n",
    "        ('deltaY_range_max', 'max'),     \n",
    "            ('deltaY_range_min', 'min'),\n",
    "    ('deltaY_range_mean', 'mean'),\n",
    "    ('deltaY_range_std', 'std'),\n",
    "    ('deltaY_range_skew', 'skew'),\n",
    "        ]).reset_index()\n",
    "    df_temp['uin'] = uin\n",
    "    agg_list.append(df_temp)\n",
    "del df['deltaY_range_diff']   \n",
    "df_temp = pd.concat(agg_list, axis=0)\n",
    "del agg_list\n",
    "df_ = pd.merge(df_, df_temp, on=['uin', 'kill_time'], how='left')\n",
    "del df_temp"
   ]
  },
  {
   "cell_type": "code",
   "execution_count": 26,
   "metadata": {},
   "outputs": [
    {
     "name": "stderr",
     "output_type": "stream",
     "text": [
      "100%|████████████████████████████████████| 10000/10000 [17:05<00:00,  9.76it/s]\n"
     ]
    }
   ],
   "source": [
    "agg_list = []\n",
    "for uin in tqdm(set(df['uin'])):\n",
    "    df__ = df[df['uin'] == uin][['kill_time', 'button']]\n",
    "    df_temp = df__.groupby(['kill_time'])['button'].agg([\n",
    "        ('button_nunique', 'nunique'),     \n",
    "        ])\n",
    "    df_temp['uin'] = uin\n",
    "    agg_list.append(df_temp)\n",
    "df_temp = pd.concat(agg_list, axis=0)\n",
    "del agg_list\n",
    "df_ = pd.merge(df_, df_temp, on=['uin', 'kill_time'], how='left')\n",
    "del df_temp"
   ]
  },
  {
   "cell_type": "code",
   "execution_count": 27,
   "metadata": {},
   "outputs": [
    {
     "name": "stderr",
     "output_type": "stream",
     "text": [
      "100%|████████████████████████████████████| 10000/10000 [17:45<00:00,  9.39it/s]\n"
     ]
    },
    {
     "name": "stdout",
     "output_type": "stream",
     "text": [
      "df_w2v:(126, 11)\n"
     ]
    },
    {
     "name": "stderr",
     "output_type": "stream",
     "text": [
      "100%|████████████████████████████████████| 10000/10000 [23:19<00:00,  7.15it/s]\n"
     ]
    }
   ],
   "source": [
    "from gensim.models import Word2Vec\n",
    "import multiprocessing\n",
    "\n",
    "agg_list = []\n",
    "target = 'button'\n",
    "for uin in tqdm(set(df['uin'])):\n",
    "    df__ = df[df['uin'] == uin][['kill_time', target]]\n",
    "    df__.reset_index(drop=True, inplace=True)\n",
    "    df__[target] = df__[target].astype('str')\n",
    "    df__ = df__.groupby('kill_time', as_index=False)[target].agg({'list':(lambda x: list(x))}).reset_index(drop=True)\n",
    "    agg_list.append(df__)\n",
    "df_bag = pd.concat(agg_list, axis=0)\n",
    "doc_list = list(df_bag['list'].values)\n",
    "w2v = Word2Vec(doc_list, size=10, window=3, min_count=1, workers=multiprocessing.cpu_count())\n",
    "vocab_keys = list(w2v.wv.vocab.keys())\n",
    "w2v_array = []\n",
    "for v in vocab_keys:\n",
    "    w2v_array.append(list(w2v.wv[v]))\n",
    "df_w2v = pd.DataFrame()\n",
    "df_w2v['vocab_keys'] = vocab_keys\n",
    "df_w2v = pd.concat([df_w2v, pd.DataFrame(w2v_array)], axis=1)\n",
    "df_w2v.columns = [target] + ['w2v_%s_%d'%(target, x) for x in range(10)]\n",
    "print('df_w2v:' + str(df_w2v.shape))\n",
    "del df_bag\n",
    "df_w2v[target] = df_w2v[target].astype('uint32')\n",
    "\n",
    "df_w2v.to_csv('button_w2v.csv', index=False)\n",
    "df = pd.merge(df, df_w2v, on=target, how='left')\n",
    "\n",
    "agg_list = []\n",
    "for uin in tqdm(set(df['uin'])):\n",
    "    df__ = df[df['uin'] == uin][['kill_time'] +['w2v_%s_%d'%(target, x) for x in range(10)]]\n",
    "    df__.reset_index(drop=True, inplace=True)\n",
    "    df_temp = df__.drop_duplicates('kill_time')[['kill_time']]\n",
    "    for i in range(10):\n",
    "        d = df__.groupby(['kill_time'])['w2v_%s_%d'%(target, i)].agg([\n",
    "            (f'{target}_w2v_mean_{i}', 'mean'),     \n",
    "            ])\n",
    "        df_temp = pd.merge(df_temp, d, on='kill_time', how='left')\n",
    "    df_temp['uin'] = uin\n",
    "    agg_list.append(df_temp)\n",
    "df_temp = pd.concat(agg_list, axis=0)\n",
    "del agg_list\n",
    "df_ = pd.merge(df_, df_temp, on=['uin', 'kill_time'], how='left')\n",
    "del df_temp"
   ]
  },
  {
   "cell_type": "code",
   "execution_count": 30,
   "metadata": {},
   "outputs": [
    {
     "data": {
      "text/plain": [
       "220"
      ]
     },
     "execution_count": 30,
     "metadata": {},
     "output_type": "execute_result"
    }
   ],
   "source": [
    "import gc\n",
    "gc.collect()"
   ]
  },
  {
   "cell_type": "code",
   "execution_count": 33,
   "metadata": {},
   "outputs": [
    {
     "data": {
      "text/plain": [
       "Index(['uin', 'kill_time', 'index', 'deltaX', 'deltaY', 'button',\n",
       "       'w2v_button_0', 'w2v_button_1', 'w2v_button_2', 'w2v_button_3',\n",
       "       'w2v_button_4', 'w2v_button_5', 'w2v_button_6', 'w2v_button_7',\n",
       "       'w2v_button_8', 'w2v_button_9'],\n",
       "      dtype='object')"
      ]
     },
     "execution_count": 33,
     "metadata": {},
     "output_type": "execute_result"
    }
   ],
   "source": [
    "df.columns"
   ]
  },
  {
   "cell_type": "code",
   "execution_count": null,
   "metadata": {
    "collapsed": true
   },
   "outputs": [],
   "source": [
    "df_.to_pickle('train_10000_1.pkl')"
   ]
  },
  {
   "cell_type": "code",
   "execution_count": 3,
   "metadata": {
    "collapsed": true
   },
   "outputs": [],
   "source": [
    "df = df[['uin', 'kill_time','deltaX', 'deltaY']]\n",
    "df['deltaXY'] = df.apply(lambda x: math.sqrt(x['deltaX'] ** 2 + x['deltaY'] ** 2), axis=1)\n",
    "# df.to_pickle('delta.pkl')\n",
    "# df = pd.read_pickle('delta.pkl')\n",
    "# df_ = pd.read_csv('label.csv')"
   ]
  },
  {
   "cell_type": "code",
   "execution_count": 8,
   "metadata": {},
   "outputs": [
    {
     "name": "stderr",
     "output_type": "stream",
     "text": [
      "100%|████████████████████████████████████| 10000/10000 [15:15<00:00, 10.93it/s]\n",
      "100%|████████████████████████████████████| 10000/10000 [16:42<00:00,  9.97it/s]\n"
     ]
    }
   ],
   "source": [
    "for f in ['deltaX', 'deltaY', 'deltaXY']:\n",
    "    agg_list = []\n",
    "    for uin in tqdm(set(df['uin'])):\n",
    "        df__ = df[df['uin'] == uin][['uin', 'kill_time', f]]\n",
    "        df_temp = df__.groupby(['kill_time'])[f].agg([\n",
    "        (f'{f}_max', 'max'),     \n",
    "        (f'{f}_min', 'min'),\n",
    "        (f'{f}_mean', 'mean'),\n",
    "        (f'{f}_std', 'std'),\n",
    "        (f'{f}_skew', 'skew'),\n",
    "            ]).reset_index()\n",
    "        df_temp['uin'] = uin\n",
    "        agg_list.append(df_temp)\n",
    "        \n",
    "    df_temp = pd.concat(agg_list, axis=0)\n",
    "    del agg_list\n",
    "    \n",
    "    df_ = pd.merge(df_, df_temp, on=['uin', 'kill_time'], how='left')\n",
    "    del df_temp"
   ]
  },
  {
   "cell_type": "code",
   "execution_count": 7,
   "metadata": {},
   "outputs": [],
   "source": [
    "# df_ = pd.merge(df_, df_temp, on=['uin'], how='left')"
   ]
  },
  {
   "cell_type": "code",
   "execution_count": 9,
   "metadata": {},
   "outputs": [
    {
     "name": "stderr",
     "output_type": "stream",
     "text": [
      "100%|████████████████████████████████████| 10000/10000 [17:29<00:00,  9.53it/s]\n"
     ]
    }
   ],
   "source": [
    "df_temp = df.groupby(['uin', 'kill_time'])['deltaXY'].agg([\n",
    "    ('deltaXY_range_diff', 'diff'), \n",
    "     ])\n",
    "df['deltaXY_range_diff'] = df_temp['deltaXY_range_diff']\n",
    "agg_list = []\n",
    "for uin in tqdm(set(df['uin'])):\n",
    "    df__ = df[df['uin'] == uin][['kill_time', 'deltaXY_range_diff']]\n",
    "    df_temp = df__.groupby(['kill_time'])['deltaXY_range_diff'].agg([\n",
    "        ('deltaXY_range_max', 'max'),     \n",
    "            ('deltaXY_range_min', 'min'),\n",
    "    ('deltaXY_range_mean', 'mean'),\n",
    "    ('deltaXY_range_std', 'std'),\n",
    "    ('deltaXY_range_skew', 'skew'),\n",
    "        ]).reset_index()\n",
    "    df_temp['uin'] = uin\n",
    "    agg_list.append(df_temp)\n",
    "del df['deltaXY_range_diff']\n",
    "df_temp = pd.concat(agg_list, axis=0)\n",
    "del agg_list\n",
    "df_ = pd.merge(df_, df_temp, on=['uin', 'kill_time'], how='left')\n",
    "del df_temp"
   ]
  },
  {
   "cell_type": "code",
   "execution_count": 10,
   "metadata": {},
   "outputs": [
    {
     "data": {
      "text/html": [
       "<div>\n",
       "<style scoped>\n",
       "    .dataframe tbody tr th:only-of-type {\n",
       "        vertical-align: middle;\n",
       "    }\n",
       "\n",
       "    .dataframe tbody tr th {\n",
       "        vertical-align: top;\n",
       "    }\n",
       "\n",
       "    .dataframe thead th {\n",
       "        text-align: right;\n",
       "    }\n",
       "</style>\n",
       "<table border=\"1\" class=\"dataframe\">\n",
       "  <thead>\n",
       "    <tr style=\"text-align: right;\">\n",
       "      <th></th>\n",
       "      <th>uin</th>\n",
       "      <th>label</th>\n",
       "      <th>kill_count</th>\n",
       "      <th>kill_time</th>\n",
       "      <th>deltaX_max</th>\n",
       "      <th>deltaX_min</th>\n",
       "      <th>deltaX_mean</th>\n",
       "      <th>deltaX_std</th>\n",
       "      <th>deltaX_skew</th>\n",
       "      <th>deltaY_max</th>\n",
       "      <th>...</th>\n",
       "      <th>deltaXY_max</th>\n",
       "      <th>deltaXY_min</th>\n",
       "      <th>deltaXY_mean</th>\n",
       "      <th>deltaXY_std</th>\n",
       "      <th>deltaXY_skew</th>\n",
       "      <th>deltaXY_range_max</th>\n",
       "      <th>deltaXY_range_min</th>\n",
       "      <th>deltaXY_range_mean</th>\n",
       "      <th>deltaXY_range_std</th>\n",
       "      <th>deltaXY_range_skew</th>\n",
       "    </tr>\n",
       "  </thead>\n",
       "  <tbody>\n",
       "    <tr>\n",
       "      <th>0</th>\n",
       "      <td>0d75e2c05c4893bc3c2a97bbc6e34bb1</td>\n",
       "      <td>0.0</td>\n",
       "      <td>7</td>\n",
       "      <td>16785936.0</td>\n",
       "      <td>8.0</td>\n",
       "      <td>-8.0</td>\n",
       "      <td>0.070000</td>\n",
       "      <td>3.726694</td>\n",
       "      <td>0.194140</td>\n",
       "      <td>2.0</td>\n",
       "      <td>...</td>\n",
       "      <td>8.000000</td>\n",
       "      <td>1.0</td>\n",
       "      <td>3.095272</td>\n",
       "      <td>2.159954</td>\n",
       "      <td>0.718872</td>\n",
       "      <td>3.000000</td>\n",
       "      <td>-4.000000</td>\n",
       "      <td>-6.915085e-04</td>\n",
       "      <td>0.997567</td>\n",
       "      <td>-0.355334</td>\n",
       "    </tr>\n",
       "    <tr>\n",
       "      <th>1</th>\n",
       "      <td>0d75e2c05c4893bc3c2a97bbc6e34bb1</td>\n",
       "      <td>0.0</td>\n",
       "      <td>7</td>\n",
       "      <td>16786000.0</td>\n",
       "      <td>22.0</td>\n",
       "      <td>-3.0</td>\n",
       "      <td>4.915000</td>\n",
       "      <td>6.801584</td>\n",
       "      <td>0.631252</td>\n",
       "      <td>2.0</td>\n",
       "      <td>...</td>\n",
       "      <td>22.022716</td>\n",
       "      <td>1.0</td>\n",
       "      <td>6.045591</td>\n",
       "      <td>5.851887</td>\n",
       "      <td>0.819614</td>\n",
       "      <td>12.022716</td>\n",
       "      <td>-11.000000</td>\n",
       "      <td>-6.677796e-03</td>\n",
       "      <td>2.040462</td>\n",
       "      <td>0.089263</td>\n",
       "    </tr>\n",
       "    <tr>\n",
       "      <th>2</th>\n",
       "      <td>0d75e2c05c4893bc3c2a97bbc6e34bb1</td>\n",
       "      <td>0.0</td>\n",
       "      <td>7</td>\n",
       "      <td>16786132.0</td>\n",
       "      <td>9.0</td>\n",
       "      <td>-19.0</td>\n",
       "      <td>-2.153333</td>\n",
       "      <td>5.773680</td>\n",
       "      <td>-0.870158</td>\n",
       "      <td>2.0</td>\n",
       "      <td>...</td>\n",
       "      <td>19.026298</td>\n",
       "      <td>1.0</td>\n",
       "      <td>4.501164</td>\n",
       "      <td>4.306829</td>\n",
       "      <td>1.359319</td>\n",
       "      <td>6.984703</td>\n",
       "      <td>-6.984703</td>\n",
       "      <td>0.000000e+00</td>\n",
       "      <td>1.421998</td>\n",
       "      <td>0.388799</td>\n",
       "    </tr>\n",
       "    <tr>\n",
       "      <th>3</th>\n",
       "      <td>0d75e2c05c4893bc3c2a97bbc6e34bb1</td>\n",
       "      <td>0.0</td>\n",
       "      <td>7</td>\n",
       "      <td>16786148.0</td>\n",
       "      <td>2.0</td>\n",
       "      <td>-11.0</td>\n",
       "      <td>-1.448333</td>\n",
       "      <td>1.882349</td>\n",
       "      <td>-1.445160</td>\n",
       "      <td>1.0</td>\n",
       "      <td>...</td>\n",
       "      <td>11.045361</td>\n",
       "      <td>0.0</td>\n",
       "      <td>1.850479</td>\n",
       "      <td>1.589530</td>\n",
       "      <td>2.189334</td>\n",
       "      <td>3.974293</td>\n",
       "      <td>-4.045361</td>\n",
       "      <td>-1.502504e-02</td>\n",
       "      <td>0.725260</td>\n",
       "      <td>-0.270014</td>\n",
       "    </tr>\n",
       "    <tr>\n",
       "      <th>4</th>\n",
       "      <td>0d75e2c05c4893bc3c2a97bbc6e34bb1</td>\n",
       "      <td>0.0</td>\n",
       "      <td>7</td>\n",
       "      <td>16786870.0</td>\n",
       "      <td>6.0</td>\n",
       "      <td>-27.0</td>\n",
       "      <td>-5.773333</td>\n",
       "      <td>8.471022</td>\n",
       "      <td>-0.581121</td>\n",
       "      <td>3.0</td>\n",
       "      <td>...</td>\n",
       "      <td>27.018512</td>\n",
       "      <td>1.0</td>\n",
       "      <td>7.691726</td>\n",
       "      <td>6.864952</td>\n",
       "      <td>0.871326</td>\n",
       "      <td>11.954639</td>\n",
       "      <td>-11.000000</td>\n",
       "      <td>0.000000e+00</td>\n",
       "      <td>2.486763</td>\n",
       "      <td>0.085357</td>\n",
       "    </tr>\n",
       "    <tr>\n",
       "      <th>...</th>\n",
       "      <td>...</td>\n",
       "      <td>...</td>\n",
       "      <td>...</td>\n",
       "      <td>...</td>\n",
       "      <td>...</td>\n",
       "      <td>...</td>\n",
       "      <td>...</td>\n",
       "      <td>...</td>\n",
       "      <td>...</td>\n",
       "      <td>...</td>\n",
       "      <td>...</td>\n",
       "      <td>...</td>\n",
       "      <td>...</td>\n",
       "      <td>...</td>\n",
       "      <td>...</td>\n",
       "      <td>...</td>\n",
       "      <td>...</td>\n",
       "      <td>...</td>\n",
       "      <td>...</td>\n",
       "      <td>...</td>\n",
       "      <td>...</td>\n",
       "    </tr>\n",
       "    <tr>\n",
       "      <th>149243</th>\n",
       "      <td>902398fde7a82f69b9abb6b1c81faba6</td>\n",
       "      <td>1.0</td>\n",
       "      <td>5</td>\n",
       "      <td>16785814.0</td>\n",
       "      <td>12.0</td>\n",
       "      <td>-13.0</td>\n",
       "      <td>-0.685000</td>\n",
       "      <td>3.177410</td>\n",
       "      <td>1.492823</td>\n",
       "      <td>3.0</td>\n",
       "      <td>...</td>\n",
       "      <td>13.341664</td>\n",
       "      <td>0.0</td>\n",
       "      <td>2.515693</td>\n",
       "      <td>2.337819</td>\n",
       "      <td>2.392816</td>\n",
       "      <td>4.472136</td>\n",
       "      <td>-5.083934</td>\n",
       "      <td>-2.060378e-02</td>\n",
       "      <td>0.856651</td>\n",
       "      <td>-0.182353</td>\n",
       "    </tr>\n",
       "    <tr>\n",
       "      <th>149244</th>\n",
       "      <td>902398fde7a82f69b9abb6b1c81faba6</td>\n",
       "      <td>1.0</td>\n",
       "      <td>5</td>\n",
       "      <td>16785818.0</td>\n",
       "      <td>7.0</td>\n",
       "      <td>-38.0</td>\n",
       "      <td>-3.323333</td>\n",
       "      <td>8.819586</td>\n",
       "      <td>-2.223616</td>\n",
       "      <td>4.0</td>\n",
       "      <td>...</td>\n",
       "      <td>38.118237</td>\n",
       "      <td>0.0</td>\n",
       "      <td>5.261360</td>\n",
       "      <td>7.938500</td>\n",
       "      <td>2.485767</td>\n",
       "      <td>7.053788</td>\n",
       "      <td>-6.102616</td>\n",
       "      <td>3.706922e-19</td>\n",
       "      <td>1.191021</td>\n",
       "      <td>0.207444</td>\n",
       "    </tr>\n",
       "    <tr>\n",
       "      <th>149245</th>\n",
       "      <td>0862ea50378cfd91d0455ed9281f494a</td>\n",
       "      <td>0.0</td>\n",
       "      <td>1</td>\n",
       "      <td>NaN</td>\n",
       "      <td>NaN</td>\n",
       "      <td>NaN</td>\n",
       "      <td>NaN</td>\n",
       "      <td>NaN</td>\n",
       "      <td>NaN</td>\n",
       "      <td>NaN</td>\n",
       "      <td>...</td>\n",
       "      <td>NaN</td>\n",
       "      <td>NaN</td>\n",
       "      <td>NaN</td>\n",
       "      <td>NaN</td>\n",
       "      <td>NaN</td>\n",
       "      <td>NaN</td>\n",
       "      <td>NaN</td>\n",
       "      <td>NaN</td>\n",
       "      <td>NaN</td>\n",
       "      <td>NaN</td>\n",
       "    </tr>\n",
       "    <tr>\n",
       "      <th>149246</th>\n",
       "      <td>7f41484edd51b379bf2c7deb360935ac</td>\n",
       "      <td>0.0</td>\n",
       "      <td>1</td>\n",
       "      <td>NaN</td>\n",
       "      <td>NaN</td>\n",
       "      <td>NaN</td>\n",
       "      <td>NaN</td>\n",
       "      <td>NaN</td>\n",
       "      <td>NaN</td>\n",
       "      <td>NaN</td>\n",
       "      <td>...</td>\n",
       "      <td>NaN</td>\n",
       "      <td>NaN</td>\n",
       "      <td>NaN</td>\n",
       "      <td>NaN</td>\n",
       "      <td>NaN</td>\n",
       "      <td>NaN</td>\n",
       "      <td>NaN</td>\n",
       "      <td>NaN</td>\n",
       "      <td>NaN</td>\n",
       "      <td>NaN</td>\n",
       "    </tr>\n",
       "    <tr>\n",
       "      <th>149247</th>\n",
       "      <td>6087e43e532ff538a404f6fc791b1ad8</td>\n",
       "      <td>0.0</td>\n",
       "      <td>1</td>\n",
       "      <td>NaN</td>\n",
       "      <td>NaN</td>\n",
       "      <td>NaN</td>\n",
       "      <td>NaN</td>\n",
       "      <td>NaN</td>\n",
       "      <td>NaN</td>\n",
       "      <td>NaN</td>\n",
       "      <td>...</td>\n",
       "      <td>NaN</td>\n",
       "      <td>NaN</td>\n",
       "      <td>NaN</td>\n",
       "      <td>NaN</td>\n",
       "      <td>NaN</td>\n",
       "      <td>NaN</td>\n",
       "      <td>NaN</td>\n",
       "      <td>NaN</td>\n",
       "      <td>NaN</td>\n",
       "      <td>NaN</td>\n",
       "    </tr>\n",
       "  </tbody>\n",
       "</table>\n",
       "<p>149248 rows × 24 columns</p>\n",
       "</div>"
      ],
      "text/plain": [
       "                                     uin  label  kill_count   kill_time  \\\n",
       "0       0d75e2c05c4893bc3c2a97bbc6e34bb1    0.0           7  16785936.0   \n",
       "1       0d75e2c05c4893bc3c2a97bbc6e34bb1    0.0           7  16786000.0   \n",
       "2       0d75e2c05c4893bc3c2a97bbc6e34bb1    0.0           7  16786132.0   \n",
       "3       0d75e2c05c4893bc3c2a97bbc6e34bb1    0.0           7  16786148.0   \n",
       "4       0d75e2c05c4893bc3c2a97bbc6e34bb1    0.0           7  16786870.0   \n",
       "...                                  ...    ...         ...         ...   \n",
       "149243  902398fde7a82f69b9abb6b1c81faba6    1.0           5  16785814.0   \n",
       "149244  902398fde7a82f69b9abb6b1c81faba6    1.0           5  16785818.0   \n",
       "149245  0862ea50378cfd91d0455ed9281f494a    0.0           1         NaN   \n",
       "149246  7f41484edd51b379bf2c7deb360935ac    0.0           1         NaN   \n",
       "149247  6087e43e532ff538a404f6fc791b1ad8    0.0           1         NaN   \n",
       "\n",
       "        deltaX_max  deltaX_min  deltaX_mean  deltaX_std  deltaX_skew  \\\n",
       "0              8.0        -8.0     0.070000    3.726694     0.194140   \n",
       "1             22.0        -3.0     4.915000    6.801584     0.631252   \n",
       "2              9.0       -19.0    -2.153333    5.773680    -0.870158   \n",
       "3              2.0       -11.0    -1.448333    1.882349    -1.445160   \n",
       "4              6.0       -27.0    -5.773333    8.471022    -0.581121   \n",
       "...            ...         ...          ...         ...          ...   \n",
       "149243        12.0       -13.0    -0.685000    3.177410     1.492823   \n",
       "149244         7.0       -38.0    -3.323333    8.819586    -2.223616   \n",
       "149245         NaN         NaN          NaN         NaN          NaN   \n",
       "149246         NaN         NaN          NaN         NaN          NaN   \n",
       "149247         NaN         NaN          NaN         NaN          NaN   \n",
       "\n",
       "        deltaY_max  ...  deltaXY_max  deltaXY_min  deltaXY_mean  deltaXY_std  \\\n",
       "0              2.0  ...     8.000000          1.0      3.095272     2.159954   \n",
       "1              2.0  ...    22.022716          1.0      6.045591     5.851887   \n",
       "2              2.0  ...    19.026298          1.0      4.501164     4.306829   \n",
       "3              1.0  ...    11.045361          0.0      1.850479     1.589530   \n",
       "4              3.0  ...    27.018512          1.0      7.691726     6.864952   \n",
       "...            ...  ...          ...          ...           ...          ...   \n",
       "149243         3.0  ...    13.341664          0.0      2.515693     2.337819   \n",
       "149244         4.0  ...    38.118237          0.0      5.261360     7.938500   \n",
       "149245         NaN  ...          NaN          NaN           NaN          NaN   \n",
       "149246         NaN  ...          NaN          NaN           NaN          NaN   \n",
       "149247         NaN  ...          NaN          NaN           NaN          NaN   \n",
       "\n",
       "        deltaXY_skew  deltaXY_range_max  deltaXY_range_min  \\\n",
       "0           0.718872           3.000000          -4.000000   \n",
       "1           0.819614          12.022716         -11.000000   \n",
       "2           1.359319           6.984703          -6.984703   \n",
       "3           2.189334           3.974293          -4.045361   \n",
       "4           0.871326          11.954639         -11.000000   \n",
       "...              ...                ...                ...   \n",
       "149243      2.392816           4.472136          -5.083934   \n",
       "149244      2.485767           7.053788          -6.102616   \n",
       "149245           NaN                NaN                NaN   \n",
       "149246           NaN                NaN                NaN   \n",
       "149247           NaN                NaN                NaN   \n",
       "\n",
       "        deltaXY_range_mean  deltaXY_range_std  deltaXY_range_skew  \n",
       "0            -6.915085e-04           0.997567           -0.355334  \n",
       "1            -6.677796e-03           2.040462            0.089263  \n",
       "2             0.000000e+00           1.421998            0.388799  \n",
       "3            -1.502504e-02           0.725260           -0.270014  \n",
       "4             0.000000e+00           2.486763            0.085357  \n",
       "...                    ...                ...                 ...  \n",
       "149243       -2.060378e-02           0.856651           -0.182353  \n",
       "149244        3.706922e-19           1.191021            0.207444  \n",
       "149245                 NaN                NaN                 NaN  \n",
       "149246                 NaN                NaN                 NaN  \n",
       "149247                 NaN                NaN                 NaN  \n",
       "\n",
       "[149248 rows x 24 columns]"
      ]
     },
     "execution_count": 10,
     "metadata": {},
     "output_type": "execute_result"
    }
   ],
   "source": [
    "df_"
   ]
  },
  {
   "cell_type": "code",
   "execution_count": 11,
   "metadata": {
    "collapsed": true
   },
   "outputs": [],
   "source": [
    "df_.to_pickle('train_10000_1_.pkl')"
   ]
  },
  {
   "cell_type": "code",
   "execution_count": 20,
   "metadata": {},
   "outputs": [
    {
     "name": "stderr",
     "output_type": "stream",
     "text": [
      "100%|████████████████████████████████████████| 100/100 [00:02<00:00, 39.88it/s]\n"
     ]
    },
    {
     "name": "stdout",
     "output_type": "stream",
     "text": [
      "df_tfidf:(2819, 12)\n"
     ]
    }
   ],
   "source": [
    "# agg_list = []\n",
    "# target = 'button'\n",
    "# for uin in tqdm(set(df['uin'])):\n",
    "#     df__ = df[df['uin'] == uin][['kill_time', target]]\n",
    "#     df__.reset_index(drop=True, inplace=True)\n",
    "#     df__[target] = df__[target].astype('str')\n",
    "#     df__ = df__.groupby('kill_time', as_index=False)[target].agg({'list':(lambda x: list(x))}).reset_index(drop=True)\n",
    "#     agg_list.append(df__)\n",
    "# df_bag = pd.concat(agg_list, axis=0)\n",
    "# doc_list = [' '.join(i) for i in df_bag['list']]\n",
    "# tfidf_vector = TfidfVectorizer(min_df=1).fit_transform(doc_list)\n",
    "# df_tfidf = tfidf_vector.todense()\n",
    "# print('df_tfidf:' + str(df_tfidf.shape))\n",
    "# tfidf_columns = [f'tfidf_{target}_{i + 1}' for i in range(df_tfidf.shape[1])]\n",
    "# df_bag[tfidf_columns] = pd.DataFrame(df_tfidf, index=df_bag.index)\n",
    "# del df_bag['list']\n",
    "\n",
    "# svd = TruncatedSVD(random_state=2020,\n",
    "#                    n_components=10)\n",
    "# df_bag[[\n",
    "#     f'svd_{i + 1}' for i in range(svd.n_components)\n",
    "# ]] = pd.DataFrame(svd.fit_transform(\n",
    "#     tfidf_vector),\n",
    "#     index=df_bag.index)"
   ]
  },
  {
   "cell_type": "code",
   "execution_count": 31,
   "metadata": {
    "collapsed": true
   },
   "outputs": [],
   "source": []
  },
  {
   "cell_type": "code",
   "execution_count": null,
   "metadata": {
    "collapsed": true
   },
   "outputs": [],
   "source": []
  }
 ],
 "metadata": {
  "kernelspec": {
   "display_name": "Python 3",
   "language": "python",
   "name": "python3"
  },
  "language_info": {
   "codemirror_mode": {
    "name": "ipython",
    "version": 3
   },
   "file_extension": ".py",
   "mimetype": "text/x-python",
   "name": "python",
   "nbconvert_exporter": "python",
   "pygments_lexer": "ipython3",
   "version": "3.6.1"
  }
 },
 "nbformat": 4,
 "nbformat_minor": 2
}
