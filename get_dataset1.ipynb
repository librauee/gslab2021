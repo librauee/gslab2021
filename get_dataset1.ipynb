{
 "cells": [
  {
   "cell_type": "code",
   "execution_count": null,
   "metadata": {
    "collapsed": true
   },
   "outputs": [],
   "source": [
    "import math\n",
    "import numpy as np\n",
    "import pandas as pd\n",
    "import matplotlib.pyplot as plt\n",
    "import xgboost as xgb\n",
    "from sklearn.decomposition import LatentDirichletAllocation, NMF, TruncatedSVD\n",
    "from sklearn.feature_extraction.text import CountVectorizer, TfidfVectorizer\n",
    "from sklearn.metrics import f1_score, fbeta_score, precision_score, recall_score, roc_auc_score\n",
    "from sklearn.model_selection import StratifiedKFold\n",
    "from sklearn.preprocessing import LabelEncoder\n",
    "from tqdm import tqdm\n",
    "import warnings\n",
    "from datetime import datetime\n",
    "import lightgbm as lgb\n",
    "\n",
    "warnings.filterwarnings('ignore')"
   ]
  },
  {
   "cell_type": "code",
   "execution_count": null,
   "metadata": {
    "collapsed": true
   },
   "outputs": [],
   "source": [
    "dtype={\n",
    "    1:'category',\n",
    "    2:\"float32\",\n",
    "    4:\"uint16\",\n",
    "    5:\"int32\",\n",
    "    6:\"int32\",\n",
    "    7:\"uint32\"\n",
    "}\n",
    "from tqdm import tqdm\n",
    "def get_df(f):\n",
    "    files = []\n",
    "    for chunk in tqdm(pd.read_csv(f, sep='\\|', header=None, usecols=[1, 2, 4, 5, 6, 7], chunksize=1000000, dtype=dtype)):\n",
    "        files.append(chunk)\n",
    "    return files\n",
    "chunk = get_df('E:\\cp_rawdata_0509.txt')\n",
    "\n",
    "df = pd.concat(chunk,axis=0)\n",
    "del chunk"
   ]
  },
  {
   "cell_type": "code",
   "execution_count": null,
   "metadata": {
    "collapsed": true
   },
   "outputs": [],
   "source": [
    "col_names = ['uin', 'kill_time', 'index', 'deltaX', 'deltaY', 'button']\n",
    "df.columns = col_names\n",
    "df['uin'] = df['uin'].astype('category')\n",
    "df.info()"
   ]
  },
  {
   "cell_type": "code",
   "execution_count": null,
   "metadata": {
    "collapsed": true
   },
   "outputs": [],
   "source": [
    "df_ = pd.read_csv('label.csv')\n",
    "pos_uin = list(df_[df_['label'] == 1]['uin'])\n",
    "neg_uin = list(df_[df_['label'] == 0]['uin'])\n",
    "sample_uin = pos_uin + neg_uin\n",
    "df = df[df['uin'].isin(sample_uin)]\n",
    "df.info()"
   ]
  },
  {
   "cell_type": "code",
   "execution_count": null,
   "metadata": {
    "collapsed": true
   },
   "outputs": [],
   "source": [
    "df.sort_values(['uin', 'kill_time', 'index'], inplace=True)\n",
    "df.to_pickle('train_total_.pkl')"
   ]
  },
  {
   "cell_type": "code",
   "execution_count": null,
   "metadata": {
    "collapsed": true
   },
   "outputs": [],
   "source": [
    "black = pd.read_csv('训练集black_uin.txt', sep='\\|', header=None)\n",
    "white = pd.read_csv('训练集white_uin.txt', sep='\\|', header=None)\n",
    "black.columns = ['uin']\n",
    "white.columns = ['uin']\n",
    "black['label'] = 1\n",
    "white['label'] = 0\n",
    "label_map = pd.concat([black, white], axis=0)\n",
    "label_map = dict(zip(label_map['uin'], label_map['label']))\n",
    "\n",
    "df_ = df.drop_duplicates('uin')\n",
    "df_.drop(['kill_time', 'index', 'deltaX', 'deltaY', 'button'], axis=1, inplace=True)\n",
    "df_ = df_[~df_['label'].isnull()]\n",
    "df_.to_csv('label.csv', index=False)"
   ]
  }
 ],
 "metadata": {
  "kernelspec": {
   "display_name": "Python 3",
   "language": "python",
   "name": "python3"
  },
  "language_info": {
   "codemirror_mode": {
    "name": "ipython",
    "version": 3
   },
   "file_extension": ".py",
   "mimetype": "text/x-python",
   "name": "python",
   "nbconvert_exporter": "python",
   "pygments_lexer": "ipython3",
   "version": "3.6.1"
  }
 },
 "nbformat": 4,
 "nbformat_minor": 2
}
