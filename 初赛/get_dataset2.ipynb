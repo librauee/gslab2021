{
 "cells": [
  {
   "cell_type": "code",
   "execution_count": 1,
   "metadata": {},
   "outputs": [
    {
     "name": "stderr",
     "output_type": "stream",
     "text": [
      "519it [54:49,  6.34s/it]\n"
     ]
    }
   ],
   "source": [
    "import math\n",
    "import numpy as np\n",
    "import pandas as pd\n",
    "import matplotlib.pyplot as plt\n",
    "import xgboost as xgb\n",
    "from sklearn.decomposition import LatentDirichletAllocation, NMF, TruncatedSVD\n",
    "from sklearn.feature_extraction.text import CountVectorizer, TfidfVectorizer\n",
    "from sklearn.metrics import f1_score, fbeta_score, precision_score, recall_score, roc_auc_score\n",
    "from sklearn.model_selection import StratifiedKFold\n",
    "from sklearn.preprocessing import LabelEncoder\n",
    "from tqdm import tqdm\n",
    "import warnings\n",
    "from datetime import datetime\n",
    "import lightgbm as lgb\n",
    "\n",
    "warnings.filterwarnings('ignore')"
   ]
  },
  {
   "cell_type": "code",
   "execution_count": null,
   "metadata": {
    "collapsed": true
   },
   "outputs": [],
   "source": [
    "dtype={\n",
    "    1:'category',\n",
    "    2:\"float32\",\n",
    "    4:\"uint16\",\n",
    "    8:\"float32\",\n",
    "    9:\"float32\",\n",
    "    10:\"float32\",\n",
    "    11:\"float32\",\n",
    "    12:\"uint8\",\n",
    "    13:\"uint64\",\n",
    "}\n",
    "from tqdm import tqdm\n",
    "def get_df(f):\n",
    "    files = []\n",
    "    for chunk in tqdm(pd.read_csv(f, sep='\\|', header=None, usecols=[1, 2, 4, 8, 9, 10, 11, 12, 13], chunksize=1000000, dtype=dtype)):\n",
    "        files.append(chunk)\n",
    "    return files\n",
    "chunk = get_df('E:\\cp_rawdata_0509.txt')\n",
    "\n",
    "df = pd.concat(chunk,axis=0)\n",
    "del chunk"
   ]
  },
  {
   "cell_type": "code",
   "execution_count": 2,
   "metadata": {},
   "outputs": [
    {
     "name": "stdout",
     "output_type": "stream",
     "text": [
      "<class 'pandas.core.frame.DataFrame'>\n",
      "RangeIndex: 518451376 entries, 0 to 518451375\n",
      "Data columns (total 9 columns):\n",
      " #   Column     Dtype   \n",
      "---  ------     -----   \n",
      " 0   uin        category\n",
      " 1   kill_time  float32 \n",
      " 2   index      uint16  \n",
      " 3   pitch      float32 \n",
      " 4   yaw        float32 \n",
      " 5   pitch_r    float32 \n",
      " 6   yaw_r      float32 \n",
      " 7   type       uint8   \n",
      " 8   weapon_id  uint64  \n",
      "dtypes: category(1), float32(5), uint16(1), uint64(1), uint8(1)\n",
      "memory usage: 16.9 GB\n"
     ]
    }
   ],
   "source": [
    "col_names = ['uin', 'kill_time', 'index',\n",
    "             'pitch', 'yaw','pitch_r', 'yaw_r', 'type', 'weapon_id']\n",
    "df.columns = col_names\n",
    "df['uin'] = df['uin'].astype('category')\n",
    "df.info()"
   ]
  },
  {
   "cell_type": "code",
   "execution_count": 3,
   "metadata": {},
   "outputs": [
    {
     "name": "stdout",
     "output_type": "stream",
     "text": [
      "<class 'pandas.core.frame.DataFrame'>\n",
      "Int64Index: 206786069 entries, 3 to 518451375\n",
      "Data columns (total 9 columns):\n",
      " #   Column     Dtype   \n",
      "---  ------     -----   \n",
      " 0   uin        category\n",
      " 1   kill_time  float32 \n",
      " 2   index      uint16  \n",
      " 3   pitch      float32 \n",
      " 4   yaw        float32 \n",
      " 5   pitch_r    float32 \n",
      " 6   yaw_r      float32 \n",
      " 7   type       uint8   \n",
      " 8   weapon_id  uint64  \n",
      "dtypes: category(1), float32(5), uint16(1), uint64(1), uint8(1)\n",
      "memory usage: 8.3 GB\n"
     ]
    }
   ],
   "source": [
    "df_ = pd.read_csv('label.csv')\n",
    "pos_uin = list(df_[df_['label'] == 1]['uin'])\n",
    "neg_uin = list(df_[df_['label'] == 0]['uin'])\n",
    "sample_uin = pos_uin + neg_uin\n",
    "df = df[df['uin'].isin(sample_uin)]\n",
    "df.info()"
   ]
  },
  {
   "cell_type": "code",
   "execution_count": 5,
   "metadata": {
    "collapsed": true
   },
   "outputs": [],
   "source": [
    "df.sort_values(['uin', 'kill_time', 'index'], inplace=True)\n",
    "df.to_pickle('train_total.pkl')"
   ]
  },
  {
   "cell_type": "code",
   "execution_count": null,
   "metadata": {
    "collapsed": true
   },
   "outputs": [],
   "source": []
  }
 ],
 "metadata": {
  "kernelspec": {
   "display_name": "Python 3",
   "language": "python",
   "name": "python3"
  },
  "language_info": {
   "codemirror_mode": {
    "name": "ipython",
    "version": 3
   },
   "file_extension": ".py",
   "mimetype": "text/x-python",
   "name": "python",
   "nbconvert_exporter": "python",
   "pygments_lexer": "ipython3",
   "version": "3.6.1"
  }
 },
 "nbformat": 4,
 "nbformat_minor": 2
}
