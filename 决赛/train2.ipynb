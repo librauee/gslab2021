{
 "cells": [
  {
   "cell_type": "code",
   "execution_count": 1,
   "metadata": {
    "collapsed": true
   },
   "outputs": [],
   "source": [
    "import math\n",
    "import numpy as np\n",
    "import pandas as pd\n",
    "import matplotlib.pyplot as plt\n",
    "import xgboost as xgb\n",
    "from sklearn.decomposition import LatentDirichletAllocation, NMF, TruncatedSVD\n",
    "from sklearn.feature_extraction.text import CountVectorizer, TfidfVectorizer\n",
    "from sklearn.metrics import f1_score, fbeta_score, precision_score, recall_score, roc_auc_score\n",
    "from sklearn.model_selection import StratifiedKFold, GroupKFold\n",
    "from sklearn.preprocessing import LabelEncoder\n",
    "from tqdm import tqdm\n",
    "import warnings\n",
    "from datetime import datetime\n",
    "import lightgbm as lgb\n",
    "\n",
    "warnings.filterwarnings('ignore')"
   ]
  },
  {
   "cell_type": "code",
   "execution_count": 20,
   "metadata": {
    "collapsed": true
   },
   "outputs": [],
   "source": [
    "df1 = pd.read_pickle('rolling_feature_1.pkl')\n",
    "df2 = pd.read_pickle('rolling_feature_2.pkl')\n",
    "df = pd.merge(df1, df2, on='uin', how='left')\n",
    "df_origin = pd.read_pickle('train_37313.pkl')\n",
    "X_train = pd.merge(df_origin, df, on='uin', how='left')"
   ]
  },
  {
   "cell_type": "code",
   "execution_count": 21,
   "metadata": {},
   "outputs": [
    {
     "data": {
      "text/plain": [
       "160"
      ]
     },
     "execution_count": 21,
     "metadata": {},
     "output_type": "execute_result"
    }
   ],
   "source": [
    "X_train['weapon_id'] =  X_train['weapon_id'] .astype('category')\n",
    "y = X_train['label']\n",
    "features = X_train.columns\n",
    "features = features.drop(['uin','label', 'oof'])\n",
    "len(features)"
   ]
  },
  {
   "cell_type": "code",
   "execution_count": 22,
   "metadata": {
    "collapsed": true
   },
   "outputs": [],
   "source": [
    "X_test = pd.read_pickle('test.pkl')\n",
    "X_test['weapon_id'] =  X_test['weapon_id'] .astype('category')\n",
    "df_test = pd.read_pickle('rolling_feature_test.pkl')\n",
    "X_test = pd.merge(X_test, df_test, on=['uin', 'kill_time'], how='left')\n",
    "df_test = pd.read_pickle('test_oof.pkl')\n",
    "X_test = pd.merge(X_test, df_test, on=['uin', 'kill_time'], how='left')\n",
    "X_test['kill_time'] = X_test['kill_time'].astype('float')"
   ]
  },
  {
   "cell_type": "code",
   "execution_count": 23,
   "metadata": {},
   "outputs": [
    {
     "name": "stdout",
     "output_type": "stream",
     "text": [
      "fold n°0\n",
      "trn_idx: [    0     1     2 ... 37310 37311 37312]\n",
      "val_idx: [    3     5     6 ... 37283 37305 37306]\n",
      "Training until validation scores don't improve for 200 rounds\n",
      "[500]\ttraining's binary_error: 0\tvalid_1's binary_error: 0.0182232\n",
      "Early stopping, best iteration is:\n",
      "[300]\ttraining's binary_error: 0\tvalid_1's binary_error: 0.0182232\n",
      "fold n°1\n",
      "trn_idx: [    1     3     4 ... 37309 37310 37311]\n",
      "val_idx: [    0     2     7 ... 37303 37308 37312]\n",
      "Training until validation scores don't improve for 200 rounds\n",
      "[500]\ttraining's binary_error: 3.35008e-05\tvalid_1's binary_error: 0.0180892\n",
      "Early stopping, best iteration is:\n",
      "[494]\ttraining's binary_error: 3.35008e-05\tvalid_1's binary_error: 0.0178213\n",
      "fold n°2\n",
      "trn_idx: [    0     2     3 ... 37310 37311 37312]\n",
      "val_idx: [    1    12    17 ... 37302 37307 37309]\n",
      "Training until validation scores don't improve for 200 rounds\n",
      "[500]\ttraining's binary_error: 6.70017e-05\tvalid_1's binary_error: 0.0191612\n",
      "Early stopping, best iteration is:\n",
      "[511]\ttraining's binary_error: 6.70017e-05\tvalid_1's binary_error: 0.0190272\n",
      "fold n°3\n",
      "trn_idx: [    0     1     2 ... 37309 37310 37312]\n",
      "val_idx: [    4    11    19 ... 37296 37299 37311]\n",
      "Training until validation scores don't improve for 200 rounds\n",
      "Early stopping, best iteration is:\n",
      "[239]\ttraining's binary_error: 0.000200998\tvalid_1's binary_error: 0.0182257\n",
      "fold n°4\n",
      "trn_idx: [    0     1     2 ... 37309 37311 37312]\n",
      "val_idx: [   10    21    35 ... 37298 37304 37310]\n",
      "Training until validation scores don't improve for 200 rounds\n",
      "[500]\ttraining's binary_error: 0\tvalid_1's binary_error: 0.0209059\n",
      "Early stopping, best iteration is:\n",
      "[664]\ttraining's binary_error: 0\tvalid_1's binary_error: 0.0202359\n",
      "AUC score: 0.9278840014940248\n",
      "F1 score: 0.642051282051282\n",
      "Precision score: 0.9301634472511144\n",
      "Recall score: 0.490211433046202\n"
     ]
    }
   ],
   "source": [
    "KF = StratifiedKFold(n_splits=5, random_state=2020, shuffle=True)\n",
    "params = {\n",
    "          'objective':'binary',\n",
    "          'metric':'binary_error', \n",
    "          'learning_rate':0.05, \n",
    "          'subsample':0.8, \n",
    "          'subsample_freq':3, \n",
    "          'colsample_btree':0.8,\n",
    "          'num_iterations': 10000, \n",
    "          'silent':True\n",
    "}\n",
    "\n",
    "oof_lgb = np.zeros(len(X_train))\n",
    "predictions_lgb = np.zeros((len(X_test)))\n",
    "\n",
    "# 五折交叉验证\n",
    "for fold_, (trn_idx, val_idx) in enumerate(KF.split(X_train.values, y.values, X_train['uin'])):\n",
    "    print(\"fold n°{}\".format(fold_))\n",
    "    print('trn_idx:',trn_idx)\n",
    "    print('val_idx:',val_idx)\n",
    "    trn_data = lgb.Dataset(X_train.iloc[trn_idx][features],label=y.iloc[trn_idx])    \n",
    "    val_data = lgb.Dataset(X_train.iloc[val_idx][features],label=y.iloc[val_idx])\n",
    "    num_round = 10000\n",
    "    clf = lgb.train(\n",
    "        params,\n",
    "        trn_data,\n",
    "        num_round,\n",
    "        valid_sets = [trn_data, val_data],\n",
    "        verbose_eval=500,\n",
    "        early_stopping_rounds=200,  \n",
    "        categorical_feature=['weapon_id'],    \n",
    "    )       \n",
    "    oof_lgb[val_idx] = clf.predict(X_train.iloc[val_idx][features], num_iteration=clf.best_iteration)\n",
    "    predictions_lgb[:] += clf.predict(X_test[features], num_iteration=clf.best_iteration) \n",
    "print(\"AUC score: {}\".format(roc_auc_score(y, oof_lgb)))\n",
    "print(\"F1 score: {}\".format(f1_score(y, [1 if i >= 0.5 else 0 for i in oof_lgb])))\n",
    "print(\"Precision score: {}\".format(precision_score(y, [1 if i >= 0.5 else 0 for i in oof_lgb])))\n",
    "print(\"Recall score: {}\".format(recall_score(y, [1 if i >= 0.5 else 0 for i in oof_lgb])))"
   ]
  },
  {
   "cell_type": "code",
   "execution_count": 24,
   "metadata": {},
   "outputs": [
    {
     "name": "stdout",
     "output_type": "stream",
     "text": [
      "AUC score: 0.9278840014940248\n",
      "F1 score: 0.642051282051282\n",
      "Precision score: 0.9301634472511144\n",
      "Recall score: 0.490211433046202\n"
     ]
    },
    {
     "data": {
      "text/plain": [
       "0.7597087378640777"
      ]
     },
     "execution_count": 24,
     "metadata": {},
     "output_type": "execute_result"
    }
   ],
   "source": [
    "X_train['oof_predict'] = oof_lgb\n",
    "X_train['max_prob'] = X_train.groupby('uin')['oof_predict'].transform('max')\n",
    "uin_df = X_train.drop_duplicates('uin')\n",
    "print(\"AUC score: {}\".format(roc_auc_score(uin_df['label'], uin_df['max_prob'])))\n",
    "print(\"F1 score: {}\".format(f1_score(uin_df['label'], [1 if i >= 0.5 else 0 for i in uin_df['max_prob']])))\n",
    "print(\"Precision score: {}\".format(precision_score(uin_df['label'], [1 if i >= 0.5 else 0 for i in uin_df['max_prob']])))\n",
    "print(\"Recall score: {}\".format(recall_score(uin_df['label'], [1 if i >= 0.5 else 0 for i in uin_df['max_prob']])))\n",
    "t = 0.5\n",
    "P = precision_score(uin_df['label'], [1 if i >= t else 0 for i in uin_df['max_prob']])\n",
    "R = recall_score(uin_df['label'], [1 if i >= t else 0 for i in uin_df['max_prob']])\n",
    "oof_score = 4 * P * R / (P + 3 * R)\n",
    "oof_score"
   ]
  },
  {
   "cell_type": "code",
   "execution_count": 25,
   "metadata": {},
   "outputs": [
    {
     "data": {
      "text/plain": [
       "754"
      ]
     },
     "execution_count": 25,
     "metadata": {},
     "output_type": "execute_result"
    }
   ],
   "source": [
    "X_test['predict'] = predictions_lgb / 5\n",
    "X_test['max_prob'] = X_test.groupby('uin')['predict'].transform('max')\n",
    "test_uin_df = X_test.drop_duplicates('uin')\n",
    "sum([1 if i >= 0.5 else 0 for i in test_uin_df['max_prob']])"
   ]
  },
  {
   "cell_type": "code",
   "execution_count": 27,
   "metadata": {
    "collapsed": true
   },
   "outputs": [],
   "source": [
    "df_ = pd.read_csv('label.csv')\n",
    "pos_uin = list(df_[df_['label'] == 1]['uin'])\n",
    "neg_uin = list(df_[df_['label'] == 0]['uin'])\n",
    "label_map = dict(zip(pos_uin + neg_uin, [1 for i in pos_uin] + [0 for i in neg_uin]))"
   ]
  },
  {
   "cell_type": "code",
   "execution_count": 28,
   "metadata": {
    "collapsed": true
   },
   "outputs": [],
   "source": [
    "def post(x):\n",
    "    if x['uin'] in label_map.keys():\n",
    "        return label_map[x['uin']]\n",
    "    elif x['max_prob'] >= 0.5:\n",
    "        return 1\n",
    "    else:\n",
    "        return 0\n",
    "test_uin_df['predict_label'] = test_uin_df.apply(post, axis=1)"
   ]
  },
  {
   "cell_type": "code",
   "execution_count": 29,
   "metadata": {},
   "outputs": [
    {
     "data": {
      "text/plain": [
       "743"
      ]
     },
     "execution_count": 29,
     "metadata": {},
     "output_type": "execute_result"
    }
   ],
   "source": [
    "submit = pd.read_csv('测试集玩家名单.txt', sep='\\|', header=None)\n",
    "submit.columns = ['uin']\n",
    "submit = pd.merge(submit, test_uin_df[['predict_label', 'uin']], on='uin', how='left')\n",
    "submit['predict_label'].to_excel('submit.xlsx', header=None, index=False)\n",
    "sum(submit['predict_label'])"
   ]
  },
  {
   "cell_type": "code",
   "execution_count": 31,
   "metadata": {},
   "outputs": [
    {
     "data": {
      "text/plain": [
       "<Figure size 1152x1728 with 0 Axes>"
      ]
     },
     "metadata": {},
     "output_type": "display_data"
    },
    {
     "data": {
      "image/png": "[encoded data removed]",
      "text/plain": [
       "<Figure size 432x288 with 1 Axes>"
      ]
     },
     "metadata": {},
     "output_type": "display_data"
    }
   ],
   "source": [
    "plt.figure(figsize=(16,24))\n",
    "lgb.plot_importance(clf, max_num_features=20)\n",
    "plt.show()"
   ]
  },
  {
   "cell_type": "code",
   "execution_count": null,
   "metadata": {
    "collapsed": true
   },
   "outputs": [],
   "source": []
  }
 ],
 "metadata": {
  "kernelspec": {
   "display_name": "Python 3",
   "language": "python",
   "name": "python3"
  },
  "language_info": {
   "codemirror_mode": {
    "name": "ipython",
    "version": 3
   },
   "file_extension": ".py",
   "mimetype": "text/x-python",
   "name": "python",
   "nbconvert_exporter": "python",
   "pygments_lexer": "ipython3",
   "version": "3.6.1"
  }
 },
 "nbformat": 4,
 "nbformat_minor": 2
}
