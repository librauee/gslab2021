{
 "cells": [
  {
   "cell_type": "code",
   "execution_count": 1,
   "metadata": {
    "collapsed": true
   },
   "outputs": [],
   "source": [
    "import math\n",
    "import numpy as np\n",
    "import pandas as pd\n",
    "import matplotlib.pyplot as plt\n",
    "import xgboost as xgb\n",
    "from sklearn.decomposition import LatentDirichletAllocation, NMF, TruncatedSVD\n",
    "from sklearn.feature_extraction.text import CountVectorizer, TfidfVectorizer\n",
    "from sklearn.metrics import f1_score, fbeta_score, precision_score, recall_score, roc_auc_score\n",
    "from sklearn.model_selection import StratifiedKFold\n",
    "from sklearn.preprocessing import LabelEncoder\n",
    "from tqdm import tqdm\n",
    "import warnings\n",
    "from datetime import datetime\n",
    "import lightgbm as lgb\n",
    "\n",
    "warnings.filterwarnings('ignore')"
   ]
  },
  {
   "cell_type": "code",
   "execution_count": 2,
   "metadata": {},
   "outputs": [
    {
     "name": "stderr",
     "output_type": "stream",
     "text": [
      "519it [57:08,  6.61s/it]\n"
     ]
    }
   ],
   "source": [
    "dtype={\n",
    "    1:'category',\n",
    "    2:\"float32\",\n",
    "    4:\"uint16\",\n",
    "    5:\"int32\",\n",
    "    6:\"int32\",\n",
    "    7:\"uint32\"\n",
    "}\n",
    "def get_df(f):\n",
    "    files = []\n",
    "    for chunk in tqdm(pd.read_csv(f, sep='\\|', header=None, usecols=[1, 2, 4, 5, 6, 7], chunksize=1000000, dtype=dtype)):\n",
    "        files.append(chunk)\n",
    "    return files\n",
    "chunk = get_df('E:\\cp_rawdata_0509.txt')"
   ]
  },
  {
   "cell_type": "code",
   "execution_count": 3,
   "metadata": {},
   "outputs": [
    {
     "name": "stderr",
     "output_type": "stream",
     "text": [
      "1it [00:00,  1.21it/s]\n"
     ]
    }
   ],
   "source": [
    "chunk2 = get_df('cp_rawdata_0509_2.txt')\n",
    "chunk.extend(chunk2)\n",
    "df = pd.concat(chunk, axis=0)\n",
    "del chunk\n",
    "del chunk2"
   ]
  },
  {
   "cell_type": "code",
   "execution_count": 4,
   "metadata": {},
   "outputs": [
    {
     "name": "stdout",
     "output_type": "stream",
     "text": [
      "<class 'pandas.core.frame.DataFrame'>\n",
      "Int64Index: 518489176 entries, 0 to 37799\n",
      "Data columns (total 6 columns):\n",
      " #   Column     Dtype   \n",
      "---  ------     -----   \n",
      " 0   uin        category\n",
      " 1   kill_time  float32 \n",
      " 2   index      uint16  \n",
      " 3   deltaX     int32   \n",
      " 4   deltaY     int32   \n",
      " 5   button     uint32  \n",
      "dtypes: category(1), float32(1), int32(2), uint16(1), uint32(1)\n",
      "memory usage: 14.5 GB\n"
     ]
    }
   ],
   "source": [
    "col_names = ['uin', 'kill_time', 'index', 'deltaX', 'deltaY', 'button']\n",
    "df.columns = col_names\n",
    "df['uin'] = df['uin'].astype('category')\n",
    "df.info()"
   ]
  },
  {
   "cell_type": "code",
   "execution_count": 2,
   "metadata": {
    "collapsed": true
   },
   "outputs": [],
   "source": [
    "black = pd.read_csv('训练集black_uin.txt', sep='\\|', header=None)\n",
    "white = pd.read_csv('训练集white_uin.txt', sep='\\|', header=None)\n",
    "black.columns = ['uin']\n",
    "white.columns = ['uin']\n",
    "black_and_white = pd.merge(black,white,on=['uin'])"
   ]
  },
  {
   "cell_type": "code",
   "execution_count": 3,
   "metadata": {},
   "outputs": [
    {
     "data": {
      "text/plain": [
       "875"
      ]
     },
     "execution_count": 3,
     "metadata": {},
     "output_type": "execute_result"
    }
   ],
   "source": [
    "len(black_and_white)"
   ]
  },
  {
   "cell_type": "code",
   "execution_count": 5,
   "metadata": {},
   "outputs": [],
   "source": [
    "black_and_white.to_csv('black_and_white.csv', index=False)"
   ]
  },
  {
   "cell_type": "code",
   "execution_count": 5,
   "metadata": {
    "collapsed": true
   },
   "outputs": [],
   "source": [
    "black['label'] = 1\n",
    "white['label'] = 0\n",
    "black_and_white['label'] = 2\n",
    "\n",
    "black = black.append(black_and_white)\n",
    "black = black.drop_duplicates(subset=['uin'],keep=False)\n",
    "\n",
    "white = white.append(black_and_white)\n",
    "white = white.drop_duplicates(subset=['uin'],keep=False)"
   ]
  },
  {
   "cell_type": "code",
   "execution_count": 19,
   "metadata": {
    "collapsed": true
   },
   "outputs": [],
   "source": [
    "label_map = pd.concat([black, white], axis=0)\n",
    "label_map = dict(zip(label_map['uin'], label_map['label']))"
   ]
  },
  {
   "cell_type": "code",
   "execution_count": 22,
   "metadata": {},
   "outputs": [
    {
     "data": {
      "text/plain": [
       "0.0    36036\n",
       "1.0     1277\n",
       "Name: label, dtype: int64"
      ]
     },
     "execution_count": 22,
     "metadata": {},
     "output_type": "execute_result"
    }
   ],
   "source": [
    "df_ = df.drop_duplicates('uin')\n",
    "df_.drop(['kill_time', 'index', 'deltaX', 'deltaY', 'button'], axis=1, inplace=True)\n",
    "df_['label'] = df_['uin'].map(label_map)\n",
    "df_['label'].value_counts()"
   ]
  },
  {
   "cell_type": "code",
   "execution_count": 26,
   "metadata": {},
   "outputs": [
    {
     "name": "stdout",
     "output_type": "stream",
     "text": [
      "<class 'pandas.core.frame.DataFrame'>\n",
      "Int64Index: 205183414 entries, 3 to 37799\n",
      "Data columns (total 6 columns):\n",
      " #   Column     Dtype   \n",
      "---  ------     -----   \n",
      " 0   uin        category\n",
      " 1   kill_time  float32 \n",
      " 2   index      uint16  \n",
      " 3   deltaX     int32   \n",
      " 4   deltaY     int32   \n",
      " 5   button     uint32  \n",
      "dtypes: category(1), float32(1), int32(2), uint16(1), uint32(1)\n",
      "memory usage: 5.7 GB\n"
     ]
    }
   ],
   "source": [
    "df_ = df_[~df_['label'].isnull()]\n",
    "df_.to_csv('label.csv', index=False)\n",
    "pos_uin = list(df_[df_['label'] == 1]['uin'])\n",
    "neg_uin = list(df_[df_['label'] == 0]['uin'])\n",
    "sample_uin = pos_uin + neg_uin\n",
    "df = df[df['uin'].isin(sample_uin)]\n",
    "df.info()"
   ]
  },
  {
   "cell_type": "code",
   "execution_count": 28,
   "metadata": {
    "collapsed": true
   },
   "outputs": [],
   "source": [
    "df.sort_values(['uin', 'kill_time', 'index'], inplace=True)\n",
    "df.to_pickle('train_total.pkl')"
   ]
  },
  {
   "cell_type": "code",
   "execution_count": null,
   "metadata": {
    "collapsed": true
   },
   "outputs": [],
   "source": []
  }
 ],
 "metadata": {
  "kernelspec": {
   "display_name": "Python 3",
   "language": "python",
   "name": "python3"
  },
  "language_info": {
   "codemirror_mode": {
    "name": "ipython",
    "version": 3
   },
   "file_extension": ".py",
   "mimetype": "text/x-python",
   "name": "python",
   "nbconvert_exporter": "python",
   "pygments_lexer": "ipython3",
   "version": "3.6.1"
  }
 },
 "nbformat": 4,
 "nbformat_minor": 2
}
