{
 "cells": [
  {
   "cell_type": "code",
   "execution_count": 1,
   "metadata": {
    "collapsed": true
   },
   "outputs": [],
   "source": [
    "import math\n",
    "import numpy as np\n",
    "import pandas as pd\n",
    "import matplotlib.pyplot as plt\n",
    "import xgboost as xgb\n",
    "from sklearn.decomposition import LatentDirichletAllocation, NMF, TruncatedSVD\n",
    "from sklearn.feature_extraction.text import CountVectorizer, TfidfVectorizer\n",
    "from sklearn.metrics import f1_score, fbeta_score, precision_score, recall_score, roc_auc_score\n",
    "from sklearn.model_selection import StratifiedKFold\n",
    "from sklearn.preprocessing import LabelEncoder\n",
    "from tqdm import tqdm\n",
    "import warnings\n",
    "from datetime import datetime\n",
    "import lightgbm as lgb\n",
    "\n",
    "warnings.filterwarnings('ignore')"
   ]
  },
  {
   "cell_type": "code",
   "execution_count": 2,
   "metadata": {
    "collapsed": true
   },
   "outputs": [],
   "source": [
    "d = pd.read_pickle('train_total_2.pkl')\n",
    "df_ = pd.read_csv('label.csv')\n",
    "pos_uin = list(df_[df_['label'] == 1]['uin'])\n",
    "neg_uin = list(df_[df_['label'] == 0]['uin'])\n",
    "sample_uin = neg_uin[26723:]\n",
    "df = d[d['uin'].isin(sample_uin)]\n",
    "del d\n",
    "\n",
    "# f = 'yaw'\n",
    "# agg_list = []\n",
    "# for uin in tqdm(set(df['uin'])):\n",
    "#     df__ = df[df['uin'] == uin][['uin', 'kill_time', f'{f}', 'type']]\n",
    "#     df__[f'rolling_mean_{f}']= df__.groupby('kill_time')[f].rolling(window=10).mean().values\n",
    "#     df__[f'rolling_max_{f}']= df__.groupby('kill_time')[f].rolling(window=10).max().values\n",
    "#     df__[f'rolling_min_{f}']= df__.groupby('kill_time')[f].rolling(window=10).min().values\n",
    "#     df__[f'rolling_std_{f}']= df__.groupby('kill_time')[f].rolling(window=10).std().values\n",
    "#     df__[f'rolling_diff_max_{f}']= df__.groupby('kill_time')[f].rolling(window=10, center=True).apply(lambda x: x.diff().max()).values\n",
    "#     df__[f'rolling_diff_min_{f}']= df__.groupby('kill_time')[f].rolling(window=10, center=True).apply(lambda x: x.diff().min()).values\n",
    "#     df__[f'rolling_diff_mean_{f}']= df__.groupby('kill_time')[f].rolling(window=10, center=True).apply(lambda x: x.diff().mean()).values\n",
    "#     df__[f'rolling_diff_std_{f}']= df__.groupby('kill_time')[f].rolling(window=10, center=True).apply(lambda x: x.diff().std()).values\n",
    "#     idx_max_list = df__.groupby('kill_time')['type'].idxmax()\n",
    "#     df_temp = df__.loc[idx_max_list]\n",
    "#     agg_list.append(df_temp.drop(['type', f], axis=1))  \n",
    "    \n",
    "# df_temp = pd.concat(agg_list, axis=0)\n",
    "# del agg_list\n",
    "# df_ = pd.merge(df_, df_temp, on=['uin'], how='left')\n",
    "# del df_temp\n",
    "\n",
    "# df_.to_pickle('train_yaw_40000.pkl')"
   ]
  },
  {
   "cell_type": "code",
   "execution_count": 3,
   "metadata": {},
   "outputs": [
    {
     "name": "stderr",
     "output_type": "stream",
     "text": [
      "100%|██████████████████████████████████████| 9313/9313 [05:56<00:00, 26.12it/s]\n"
     ]
    }
   ],
   "source": [
    "f = 'pitch_r'\n",
    "df_temp = df.groupby(['uin', 'kill_time'])[f'{f}'].agg([\n",
    "    (f'{f}_range_diff', 'diff'), \n",
    "     ])\n",
    "df[f'{f}_range_diff'] = df_temp[f'{f}_range_diff']\n",
    "agg_list = []\n",
    "for uin in tqdm(set(df['uin'])):\n",
    "    df__ = df[df['uin'] == uin][['uin', 'kill_time', f'{f}_range_diff']]\n",
    "    df_temp = df__.groupby(['kill_time'])[f'{f}_range_diff'].agg([\n",
    "    (f'{f}_range_max', 'max'),     \n",
    "    (f'{f}_range_min', 'min'),\n",
    "    (f'{f}_range_mean', 'mean'),\n",
    "    (f'{f}_range_std', 'std'),\n",
    "    (f'{f}_range_skew', 'skew'),\n",
    "        ]).reset_index()\n",
    "    df_temp['uin'] = uin\n",
    "    agg_list.append(df_temp)\n",
    "del df[f'{f}_range_diff']\n",
    "df_temp = pd.concat(agg_list, axis=0)\n",
    "del agg_list\n",
    "df_ = pd.merge(df_, df_temp, on=['uin'], how='left')\n",
    "del df_temp"
   ]
  },
  {
   "cell_type": "code",
   "execution_count": 4,
   "metadata": {},
   "outputs": [
    {
     "name": "stderr",
     "output_type": "stream",
     "text": [
      "100%|██████████████████████████████████████| 9313/9313 [05:57<00:00, 26.04it/s]\n"
     ]
    }
   ],
   "source": [
    "f = 'yaw_r'\n",
    "df_temp = df.groupby(['uin', 'kill_time'])[f'{f}'].agg([\n",
    "    (f'{f}_range_diff', 'diff'), \n",
    "     ])\n",
    "df[f'{f}_range_diff'] = df_temp[f'{f}_range_diff']\n",
    "agg_list = []\n",
    "for uin in tqdm(set(df['uin'])):\n",
    "    df__ = df[df['uin'] == uin][['uin', 'kill_time', f'{f}_range_diff']]\n",
    "    df_temp = df__.groupby(['kill_time'])[f'{f}_range_diff'].agg([\n",
    "    (f'{f}_range_max', 'max'),     \n",
    "    (f'{f}_range_min', 'min'),\n",
    "    (f'{f}_range_mean', 'mean'),\n",
    "    (f'{f}_range_std', 'std'),\n",
    "    (f'{f}_range_skew', 'skew'),\n",
    "        ]).reset_index()\n",
    "    df_temp['uin'] = uin\n",
    "    agg_list.append(df_temp)\n",
    "del df[f'{f}_range_diff']\n",
    "\n",
    "df_temp = pd.concat(agg_list, axis=0)\n",
    "del agg_list\n",
    "df_ = pd.merge(df_, df_temp, on=['uin', 'kill_time'], how='left')\n",
    "del df_temp"
   ]
  },
  {
   "cell_type": "code",
   "execution_count": 5,
   "metadata": {},
   "outputs": [
    {
     "name": "stderr",
     "output_type": "stream",
     "text": [
      "100%|██████████████████████████████████████| 9313/9313 [05:57<00:00, 26.05it/s]\n"
     ]
    }
   ],
   "source": [
    "agg_list = []\n",
    "for uin in tqdm(set(df['uin'])):\n",
    "    df__ = df[df['uin'] == uin][['kill_time', 'weapon_id']]\n",
    "    df_temp = df__.groupby(['kill_time'])['weapon_id'].agg([\n",
    "        ('weapon_id_nunique', 'nunique'),     \n",
    "        ])\n",
    "    df_temp['uin'] = uin\n",
    "    df_temp = pd.merge(df_temp, df__.drop_duplicates('kill_time'), on=['kill_time'], how='left')\n",
    "    agg_list.append(df_temp)\n",
    "df_temp = pd.concat(agg_list, axis=0)\n",
    "del agg_list\n",
    "df_ = pd.merge(df_, df_temp, on=['uin', 'kill_time'], how='left')\n",
    "del df_temp"
   ]
  },
  {
   "cell_type": "code",
   "execution_count": 6,
   "metadata": {},
   "outputs": [
    {
     "name": "stderr",
     "output_type": "stream",
     "text": [
      "100%|██████████████████████████████████████| 9313/9313 [05:56<00:00, 26.15it/s]\n",
      "100%|██████████████████████████████████████| 9313/9313 [05:56<00:00, 26.14it/s]\n"
     ]
    }
   ],
   "source": [
    "for f in ['yaw_r', 'pitch_r']:\n",
    "    agg_list = []\n",
    "    for uin in tqdm(set(df['uin'])):\n",
    "        df__ = df[df['uin'] == uin][['uin', 'kill_time', f]]\n",
    "        df_temp = df__.groupby(['kill_time'])[f].agg([\n",
    "        (f'{f}_max', 'max'),     \n",
    "        (f'{f}_min', 'min'),\n",
    "        (f'{f}_mean', 'mean'),\n",
    "        (f'{f}_std', 'std'),\n",
    "        (f'{f}_skew', 'skew'),\n",
    "            ]).reset_index()\n",
    "        df_temp['uin'] = uin\n",
    "        agg_list.append(df_temp)\n",
    "    df_temp = pd.concat(agg_list, axis=0)\n",
    "    del agg_list\n",
    "    df_ = pd.merge(df_, df_temp, on=['uin', 'kill_time'], how='left')\n",
    "    del df_temp"
   ]
  },
  {
   "cell_type": "code",
   "execution_count": 7,
   "metadata": {},
   "outputs": [
    {
     "name": "stderr",
     "output_type": "stream",
     "text": [
      "100%|██████████████████████████████████████| 9313/9313 [05:21<00:00, 28.93it/s]\n"
     ]
    }
   ],
   "source": [
    "agg_list = []\n",
    "for uin in tqdm(set(df['uin'])):\n",
    "    df__ = df[df['uin'] == uin][['kill_time', 'type', 'index']]\n",
    "    df__.reset_index(drop=True, inplace=True)\n",
    "    \n",
    "    df_temp = df__.groupby(['kill_time'])['type'].agg([\n",
    "        ('type_nunique', 'nunique'),     \n",
    "        ])\n",
    "    df_temp['uin'] = uin\n",
    "    agg_list.append(df_temp)\n",
    "df_temp = pd.concat(agg_list, axis=0)\n",
    "del agg_list\n",
    "df_ = pd.merge(df_, df_temp, on=['uin', 'kill_time'], how='left')\n",
    "del df_temp"
   ]
  },
  {
   "cell_type": "code",
   "execution_count": 8,
   "metadata": {},
   "outputs": [
    {
     "name": "stderr",
     "output_type": "stream",
     "text": [
      "100%|██████████████████████████████████████| 9313/9313 [12:02<00:00, 12.88it/s]\n"
     ]
    }
   ],
   "source": [
    "target = 'type'\n",
    "df_w2v = pd.read_csv('type_w2v.csv')\n",
    "df = pd.merge(df, df_w2v, on=target, how='left')\n",
    "\n",
    "agg_list = []\n",
    "for uin in tqdm(set(df['uin'])):\n",
    "    df__ = df[df['uin'] == uin][['kill_time'] +['w2v_%s_%d'%(target, x) for x in range(10)]]\n",
    "    df__.reset_index(drop=True, inplace=True)\n",
    "    df_temp = df__.drop_duplicates('kill_time')[['kill_time']]\n",
    "    for i in range(10):\n",
    "        d = df__.groupby(['kill_time'])['w2v_%s_%d'%(target, i)].agg([\n",
    "            (f'{target}_w2v_mean_{i}', 'mean'),     \n",
    "            ])\n",
    "        df_temp = pd.merge(df_temp, d, on='kill_time', how='left')\n",
    "    df_temp['uin'] = uin\n",
    "    agg_list.append(df_temp)\n",
    "df_temp = pd.concat(agg_list, axis=0)\n",
    "del agg_list\n",
    "df_ = pd.merge(df_, df_temp, on=['uin', 'kill_time'], how='left')\n",
    "del df_temp"
   ]
  },
  {
   "cell_type": "code",
   "execution_count": 9,
   "metadata": {
    "collapsed": true
   },
   "outputs": [],
   "source": [
    "df_temp = df_.groupby('uin')['kill_time'].agg([\n",
    "        ('kill_time_max', 'max'),\n",
    "        ('kill_time_min', 'min'),    \n",
    "        ('kill_time_range_max', lambda x: x.diff().max()), \n",
    "        ('kill_time_range_min', lambda x: x.diff().min()),\n",
    "        ('kill_time_range_mean', lambda x: x.diff().mean()),\n",
    "        ('kill_time_range_std', lambda x: x.diff().std()),\n",
    "        ('kill_time_range_skew', lambda x: x.diff().skew()),\n",
    "        ])\n",
    "df_ = pd.merge(df_, df_temp, on='uin', how='left')\n",
    "df_['kill_time_diff'] = df_['kill_time_max'] - df_['kill_time_min']\n",
    "df_['kill_count'] = df_.groupby('uin')['kill_time'].transform('count')\n",
    "df_['kill_time_ratio'] = df_['kill_time_diff'] / df_['kill_count']\n",
    "del df_temp"
   ]
  },
  {
   "cell_type": "code",
   "execution_count": 10,
   "metadata": {},
   "outputs": [
    {
     "name": "stderr",
     "output_type": "stream",
     "text": [
      "100%|██████████████████████████████████████| 9313/9313 [05:59<00:00, 25.92it/s]\n",
      "100%|██████████████████████████████████████| 9313/9313 [06:01<00:00, 25.77it/s]\n",
      "100%|██████████████████████████████████████| 9313/9313 [06:01<00:00, 25.74it/s]\n"
     ]
    }
   ],
   "source": [
    "df['yaw_difference'] = df['yaw'] - df['yaw_r']\n",
    "f = 'yaw'\n",
    "df_temp = df.groupby(['uin', 'kill_time'])[f'{f}'].agg([\n",
    "    (f'{f}_range_diff', 'diff'), \n",
    "     ])\n",
    "df[f'{f}_range_diff'] = df_temp[f'{f}_range_diff']\n",
    "agg_list = []\n",
    "for uin in tqdm(set(df['uin'])):\n",
    "    df__ = df[df['uin'] == uin][['uin', 'kill_time', f'{f}_range_diff']]\n",
    "    df_temp = df__.groupby(['kill_time'])[f'{f}_range_diff'].agg([\n",
    "    (f'{f}_range_max', 'max'),     \n",
    "    (f'{f}_range_min', 'min'),\n",
    "    (f'{f}_range_mean', 'mean'),\n",
    "    (f'{f}_range_std', 'std'),\n",
    "    (f'{f}_range_skew', 'skew'),\n",
    "        ]).reset_index()\n",
    "    df_temp['uin'] = uin\n",
    "    agg_list.append(df_temp)\n",
    "del df[f'{f}_range_diff']\n",
    "\n",
    "df_temp = pd.concat(agg_list, axis=0)\n",
    "del agg_list\n",
    "df_ = pd.merge(df_, df_temp, on=['uin', 'kill_time'], how='left')\n",
    "del df_temp\n",
    "\n",
    "for f in ['yaw', 'yaw_difference']:\n",
    "    agg_list = []\n",
    "    for uin in tqdm(set(df['uin'])):\n",
    "        df__ = df[df['uin'] == uin][['uin', 'kill_time', f]]\n",
    "        df_temp = df__.groupby(['kill_time'])[f].agg([\n",
    "        (f'{f}_max', 'max'),     \n",
    "        (f'{f}_min', 'min'),\n",
    "        (f'{f}_mean', 'mean'),\n",
    "        (f'{f}_std', 'std'),\n",
    "        (f'{f}_skew', 'skew'),\n",
    "            ]).reset_index()\n",
    "        df_temp['uin'] = uin\n",
    "        agg_list.append(df_temp)\n",
    "    df_temp = pd.concat(agg_list, axis=0)\n",
    "    del agg_list\n",
    "    df_ = pd.merge(df_, df_temp, on=['uin', 'kill_time'], how='left')\n",
    "    del df_temp"
   ]
  },
  {
   "cell_type": "code",
   "execution_count": 11,
   "metadata": {
    "collapsed": true
   },
   "outputs": [],
   "source": [
    "df_.to_pickle('train_feature_40000_2.pkl')"
   ]
  },
  {
   "cell_type": "code",
   "execution_count": null,
   "metadata": {
    "collapsed": true
   },
   "outputs": [],
   "source": []
  }
 ],
 "metadata": {
  "kernelspec": {
   "display_name": "Python 3",
   "language": "python",
   "name": "python3"
  },
  "language_info": {
   "codemirror_mode": {
    "name": "ipython",
    "version": 3
   },
   "file_extension": ".py",
   "mimetype": "text/x-python",
   "name": "python",
   "nbconvert_exporter": "python",
   "pygments_lexer": "ipython3",
   "version": "3.6.1"
  }
 },
 "nbformat": 4,
 "nbformat_minor": 2
}
