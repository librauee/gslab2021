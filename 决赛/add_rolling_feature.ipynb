{
 "cells": [
  {
   "cell_type": "code",
   "execution_count": 1,
   "metadata": {
    "collapsed": true
   },
   "outputs": [],
   "source": [
    "import math\n",
    "import numpy as np\n",
    "import pandas as pd\n",
    "import matplotlib.pyplot as plt\n",
    "import xgboost as xgb\n",
    "from sklearn.decomposition import LatentDirichletAllocation, NMF, TruncatedSVD\n",
    "from sklearn.feature_extraction.text import CountVectorizer, TfidfVectorizer\n",
    "from sklearn.metrics import f1_score, fbeta_score, precision_score, recall_score, roc_auc_score\n",
    "from sklearn.model_selection import StratifiedKFold\n",
    "from sklearn.preprocessing import LabelEncoder\n",
    "from tqdm import tqdm\n",
    "import warnings\n",
    "from datetime import datetime\n",
    "import lightgbm as lgb\n",
    "\n",
    "warnings.filterwarnings('ignore')"
   ]
  },
  {
   "cell_type": "code",
   "execution_count": 2,
   "metadata": {},
   "outputs": [
    {
     "data": {
      "text/plain": [
       "Index(['uin', 'kill_time', 'index', 'deltaX', 'deltaY', 'button', 'type'], dtype='object')"
      ]
     },
     "execution_count": 2,
     "metadata": {},
     "output_type": "execute_result"
    }
   ],
   "source": [
    "df = pd.read_pickle('train_total_add_type.pkl')\n",
    "df_ = pd.read_pickle('train_37313.pkl')\n",
    "d = pd.merge(df_[['uin','kill_time']], df, on=['uin', 'kill_time'], how='left')\n",
    "del df\n",
    "d.columns"
   ]
  },
  {
   "cell_type": "code",
   "execution_count": 3,
   "metadata": {},
   "outputs": [
    {
     "name": "stderr",
     "output_type": "stream",
     "text": [
      "100%|███████████████████████████████████████████| 2/2 [09:52<00:00, 296.03s/it]\n"
     ]
    },
    {
     "name": "stdout",
     "output_type": "stream",
     "text": [
      "Wall time: 10min 3s\n"
     ]
    }
   ],
   "source": [
    "%%time\n",
    "for f in tqdm(['deltaX', 'deltaY']):\n",
    "    t = d.groupby('uin')[f].rolling(window=10, center=True)\n",
    "    d[f'rolling_mean_{f}']= t.mean().values\n",
    "    d[f'rolling_max_{f}']= t.max().values\n",
    "    d[f'rolling_min_{f}']= t.min().values\n",
    "    d[f'rolling_std_{f}']= t.std().values\n",
    "    t = d.groupby('uin')[f].rolling(window=20, center=True)\n",
    "    d[f'rolling_mean_{f}_20']= t.mean().values\n",
    "    d[f'rolling_max_{f}_20']= t.max().values\n",
    "    d[f'rolling_min_{f}_20']= t.min().values\n",
    "    d[f'rolling_std_{f}_20']= t.std().values\n",
    "    t = d.groupby('uin')[f].rolling(window=30, center=True)\n",
    "    d[f'rolling_mean_{f}_30']= t.mean().values\n",
    "    d[f'rolling_max_{f}_30']= t.max().values\n",
    "    d[f'rolling_min_{f}_30']= t.min().values\n",
    "    d[f'rolling_std_{f}_30']= t.std().values\n",
    "idx_max_list = d.groupby('uin')['type'].idxmax()\n",
    "df_temp = d.loc[idx_max_list]"
   ]
  },
  {
   "cell_type": "code",
   "execution_count": 5,
   "metadata": {
    "collapsed": true
   },
   "outputs": [],
   "source": [
    "df_temp.drop(['kill_time', 'index', 'deltaX', 'deltaY', 'type', 'button'], axis=1).to_pickle('rolling_feature_1.pkl')"
   ]
  },
  {
   "cell_type": "code",
   "execution_count": 2,
   "metadata": {},
   "outputs": [
    {
     "data": {
      "text/plain": [
       "Index(['uin', 'kill_time', 'index', 'yaw', 'pitch_r', 'yaw_r', 'type',\n",
       "       'weapon_id'],\n",
       "      dtype='object')"
      ]
     },
     "execution_count": 2,
     "metadata": {},
     "output_type": "execute_result"
    }
   ],
   "source": [
    "df = pd.read_pickle('train_total_2.pkl')\n",
    "df_ = pd.read_pickle('train_37313.pkl')\n",
    "d = pd.merge(df_[['uin','kill_time']], df, on=['uin', 'kill_time'], how='left')\n",
    "del df\n",
    "d.columns"
   ]
  },
  {
   "cell_type": "code",
   "execution_count": 3,
   "metadata": {},
   "outputs": [
    {
     "name": "stderr",
     "output_type": "stream",
     "text": [
      "100%|███████████████████████████████████████████| 3/3 [15:15<00:00, 305.15s/it]\n"
     ]
    },
    {
     "name": "stdout",
     "output_type": "stream",
     "text": [
      "Wall time: 15min 28s\n"
     ]
    }
   ],
   "source": [
    "%%time\n",
    "for f in tqdm(['yaw', 'pitch_r', 'yaw_r']):\n",
    "    t = d.groupby('uin')[f].rolling(window=10, center=True)\n",
    "    d[f'rolling_mean_{f}']= t.mean().values\n",
    "    d[f'rolling_max_{f}']= t.max().values\n",
    "    d[f'rolling_min_{f}']= t.min().values\n",
    "    d[f'rolling_std_{f}']= t.std().values\n",
    "    t = d.groupby('uin')[f].rolling(window=20, center=True)\n",
    "    d[f'rolling_mean_{f}_20']= t.mean().values\n",
    "    d[f'rolling_max_{f}_20']= t.max().values\n",
    "    d[f'rolling_min_{f}_20']= t.min().values\n",
    "    d[f'rolling_std_{f}_20']= t.std().values\n",
    "    t = d.groupby('uin')[f].rolling(window=30, center=True)\n",
    "    d[f'rolling_mean_{f}_30']= t.mean().values\n",
    "    d[f'rolling_max_{f}_30']= t.max().values\n",
    "    d[f'rolling_min_{f}_30']= t.min().values\n",
    "    d[f'rolling_std_{f}_30']= t.std().values\n",
    "idx_max_list = d.groupby('uin')['type'].idxmax()\n",
    "df_temp = d.loc[idx_max_list]"
   ]
  },
  {
   "cell_type": "code",
   "execution_count": 8,
   "metadata": {
    "collapsed": true
   },
   "outputs": [],
   "source": [
    "df_temp.drop(['kill_time', 'index', 'yaw', 'pitch_r', 'yaw_r', 'type',\n",
    "       'weapon_id'], axis=1).to_pickle('rolling_feature_2.pkl')"
   ]
  },
  {
   "cell_type": "code",
   "execution_count": null,
   "metadata": {
    "collapsed": true
   },
   "outputs": [],
   "source": []
  }
 ],
 "metadata": {
  "kernelspec": {
   "display_name": "Python 3",
   "language": "python",
   "name": "python3"
  },
  "language_info": {
   "codemirror_mode": {
    "name": "ipython",
    "version": 3
   },
   "file_extension": ".py",
   "mimetype": "text/x-python",
   "name": "python",
   "nbconvert_exporter": "python",
   "pygments_lexer": "ipython3",
   "version": "3.6.1"
  }
 },
 "nbformat": 4,
 "nbformat_minor": 2
}
