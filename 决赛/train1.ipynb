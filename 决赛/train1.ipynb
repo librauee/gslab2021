{
 "cells": [
  {
   "cell_type": "code",
   "execution_count": 1,
   "metadata": {
    "collapsed": true
   },
   "outputs": [],
   "source": [
    "import math\n",
    "import numpy as np\n",
    "import pandas as pd\n",
    "import matplotlib.pyplot as plt\n",
    "import xgboost as xgb\n",
    "from sklearn.decomposition import LatentDirichletAllocation, NMF, TruncatedSVD\n",
    "from sklearn.feature_extraction.text import CountVectorizer, TfidfVectorizer\n",
    "from sklearn.metrics import f1_score, fbeta_score, precision_score, recall_score, roc_auc_score\n",
    "from sklearn.model_selection import StratifiedKFold, GroupKFold\n",
    "from sklearn.preprocessing import LabelEncoder\n",
    "from tqdm import tqdm\n",
    "import warnings\n",
    "from datetime import datetime\n",
    "import lightgbm as lgb\n",
    "\n",
    "warnings.filterwarnings('ignore')"
   ]
  },
  {
   "cell_type": "code",
   "execution_count": 2,
   "metadata": {
    "collapsed": true
   },
   "outputs": [],
   "source": [
    "df1_ = pd.read_pickle('train_feature_10000_1.pkl')\n",
    "df1 = pd.read_pickle('train_faeture_10000_1_.pkl')\n",
    "df2_ = pd.read_pickle('train_feature_20000_1.pkl')\n",
    "df2 = pd.read_pickle('train_faeture_20000_1_.pkl')\n",
    "df3 = pd.read_pickle('train_faeture_30000_1.pkl')\n",
    "df4 = pd.read_pickle('train_faeture_40000_1.pkl')\n",
    "df1 = pd.concat([df1_, df1.drop(['uin','label', 'kill_time'], axis=1), ], axis=1)\n",
    "df2 = pd.concat([df2_, df2.drop(['uin','label', 'kill_time'], axis=1), ], axis=1)\n",
    "df_feature1 = pd.concat([df1, df2, df3, df4], axis=0)\n",
    "df1 = pd.read_pickle('train_feature_10000_2.pkl')\n",
    "df2 = pd.read_pickle('train_feature_20000_2.pkl')\n",
    "df3 = pd.read_pickle('train_feature_30000_2.pkl')\n",
    "df4 = pd.read_pickle('train_feature_40000_2.pkl')\n",
    "df_feature2 = pd.concat([df1, df2, df3, df4], axis=0)\n",
    "df = pd.concat([df_feature1, df_feature2.drop(['uin','label',  'kill_time'], axis=1)], axis=1)\n",
    "df.dropna(axis=0, subset=['kill_time'], inplace=True)"
   ]
  },
  {
   "cell_type": "code",
   "execution_count": 4,
   "metadata": {},
   "outputs": [
    {
     "data": {
      "text/plain": [
       "100"
      ]
     },
     "execution_count": 4,
     "metadata": {},
     "output_type": "execute_result"
    }
   ],
   "source": [
    "y = df['label']\n",
    "X_train = df.copy()\n",
    "X_train['weapon_id'] =  X_train['weapon_id'] .astype('category')\n",
    "features = X_train.columns\n",
    "features = features.drop(['uin','label'])\n",
    "len(features)"
   ]
  },
  {
   "cell_type": "code",
   "execution_count": 5,
   "metadata": {},
   "outputs": [
    {
     "name": "stdout",
     "output_type": "stream",
     "text": [
      "fold n°0\n",
      "trn_idx: [     7      8      9 ... 294806 294807 294808]\n",
      "val_idx: [     0      1      2 ... 294783 294801 294805]\n",
      "Training until validation scores don't improve for 200 rounds\n",
      "[500]\ttraining's auc: 0.99892\tvalid_1's auc: 0.914525\n",
      "Early stopping, best iteration is:\n",
      "[561]\ttraining's auc: 0.999251\tvalid_1's auc: 0.916082\n",
      "fold n°1\n",
      "trn_idx: [     0      1      2 ... 294806 294807 294808]\n",
      "val_idx: [    67     68     69 ... 294791 294797 294802]\n",
      "Training until validation scores don't improve for 200 rounds\n",
      "[500]\ttraining's auc: 0.998762\tvalid_1's auc: 0.920926\n",
      "[1000]\ttraining's auc: 0.999978\tvalid_1's auc: 0.925033\n",
      "Early stopping, best iteration is:\n",
      "[987]\ttraining's auc: 0.999976\tvalid_1's auc: 0.925112\n",
      "fold n°2\n",
      "trn_idx: [     0      1      2 ... 294805 294806 294808]\n",
      "val_idx: [    10     11     12 ... 294796 294800 294807]\n",
      "Training until validation scores don't improve for 200 rounds\n",
      "[500]\ttraining's auc: 0.999026\tvalid_1's auc: 0.898349\n",
      "Early stopping, best iteration is:\n",
      "[597]\ttraining's auc: 0.999505\tvalid_1's auc: 0.899432\n",
      "fold n°3\n",
      "trn_idx: [     0      1      2 ... 294806 294807 294808]\n",
      "val_idx: [    28     29     30 ... 294798 294799 294804]\n",
      "Training until validation scores don't improve for 200 rounds\n",
      "[500]\ttraining's auc: 0.998572\tvalid_1's auc: 0.921006\n",
      "Early stopping, best iteration is:\n",
      "[551]\ttraining's auc: 0.998937\tvalid_1's auc: 0.921273\n",
      "fold n°4\n",
      "trn_idx: [     0      1      2 ... 294804 294805 294807]\n",
      "val_idx: [     7      8      9 ... 294803 294806 294808]\n",
      "Training until validation scores don't improve for 200 rounds\n",
      "[500]\ttraining's auc: 0.999195\tvalid_1's auc: 0.915041\n",
      "Early stopping, best iteration is:\n",
      "[501]\ttraining's auc: 0.999197\tvalid_1's auc: 0.915086\n",
      "AUC score: 0.9145676850568563\n",
      "F1 score: 0.5767412900121699\n",
      "Precision score: 0.7983858329415452\n",
      "Recall score: 0.45141996367019627\n"
     ]
    }
   ],
   "source": [
    "X_test = pd.read_pickle('test.pkl')\n",
    "X_test['weapon_id'] =  X_test['weapon_id'] .astype('category')\n",
    "KF = GroupKFold(n_splits=5)\n",
    "params = {\n",
    "          'objective':'binary',\n",
    "          'metric':'auc', \n",
    "          'learning_rate':0.05, \n",
    "          'subsample':0.8, \n",
    "          'subsample_freq':3, \n",
    "          'colsample_btree':0.8,\n",
    "          'num_iterations': 10000, \n",
    "          'silent':True\n",
    "}\n",
    "\n",
    "oof_lgb = np.zeros(len(X_train))\n",
    "predictions_lgb = np.zeros((len(X_test)))\n",
    "\n",
    "# 五折交叉验证\n",
    "for fold_, (trn_idx, val_idx) in enumerate(KF.split(X_train.values, y.values, X_train['uin'])):\n",
    "    print(\"fold n°{}\".format(fold_))\n",
    "    print('trn_idx:',trn_idx)\n",
    "    print('val_idx:',val_idx)\n",
    "    trn_data = lgb.Dataset(X_train.iloc[trn_idx][features],label=y.iloc[trn_idx])    \n",
    "    val_data = lgb.Dataset(X_train.iloc[val_idx][features],label=y.iloc[val_idx])\n",
    "    num_round = 10000\n",
    "    clf = lgb.train(\n",
    "        params,\n",
    "        trn_data,\n",
    "        num_round,\n",
    "        valid_sets = [trn_data, val_data],\n",
    "        verbose_eval=500,\n",
    "        early_stopping_rounds=200,  \n",
    "        categorical_feature=['weapon_id'],    \n",
    "    )       \n",
    "    oof_lgb[val_idx] = clf.predict(X_train.iloc[val_idx][features], num_iteration=clf.best_iteration)\n",
    "    predictions_lgb[:] += clf.predict(X_test[features], num_iteration=clf.best_iteration) \n",
    "print(\"AUC score: {}\".format(roc_auc_score(y, oof_lgb)))\n",
    "print(\"F1 score: {}\".format(f1_score(y, [1 if i >= 0.5 else 0 for i in oof_lgb])))\n",
    "print(\"Precision score: {}\".format(precision_score(y, [1 if i >= 0.5 else 0 for i in oof_lgb])))\n",
    "print(\"Recall score: {}\".format(recall_score(y, [1 if i >= 0.5 else 0 for i in oof_lgb])))"
   ]
  },
  {
   "cell_type": "code",
   "execution_count": 6,
   "metadata": {
    "collapsed": true
   },
   "outputs": [],
   "source": [
    "X_test['oof'] = predictions_lgb / 5\n",
    "X_test[['uin', 'kill_time', 'oof']].to_pickle('test_oof.pkl')\n",
    "X_train['oof'] = oof_lgb\n",
    "X_train.sort_values(['uin', 'oof'], inplace=True)\n",
    "X_train_pos = X_train[X_train['label'] == 1]\n",
    "X_train_neg = X_train[X_train['label'] == 0]\n",
    "X_train_pos.drop_duplicates('uin', keep='last', inplace=True)\n",
    "X_train_neg.drop_duplicates('uin', keep='first', inplace=True)\n",
    "X_train = pd.concat([X_train_pos, X_train_neg], axis=0)\n",
    "X_train.to_pickle('train_37313.pkl')"
   ]
  },
  {
   "cell_type": "code",
   "execution_count": null,
   "metadata": {
    "collapsed": true
   },
   "outputs": [],
   "source": []
  }
 ],
 "metadata": {
  "kernelspec": {
   "display_name": "Python 3",
   "language": "python",
   "name": "python3"
  },
  "language_info": {
   "codemirror_mode": {
    "name": "ipython",
    "version": 3
   },
   "file_extension": ".py",
   "mimetype": "text/x-python",
   "name": "python",
   "nbconvert_exporter": "python",
   "pygments_lexer": "ipython3",
   "version": "3.6.1"
  }
 },
 "nbformat": 4,
 "nbformat_minor": 2
}
