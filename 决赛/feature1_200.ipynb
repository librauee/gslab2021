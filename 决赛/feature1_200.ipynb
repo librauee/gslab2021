{
 "cells": [
  {
   "cell_type": "code",
   "execution_count": 1,
   "metadata": {
    "collapsed": true
   },
   "outputs": [],
   "source": [
    "import math\n",
    "import numpy as np\n",
    "import pandas as pd\n",
    "import matplotlib.pyplot as plt\n",
    "import xgboost as xgb\n",
    "from sklearn.decomposition import LatentDirichletAllocation, NMF, TruncatedSVD\n",
    "from sklearn.feature_extraction.text import CountVectorizer, TfidfVectorizer\n",
    "from sklearn.metrics import f1_score, fbeta_score, precision_score, recall_score, roc_auc_score\n",
    "from sklearn.model_selection import StratifiedKFold\n",
    "from sklearn.preprocessing import LabelEncoder\n",
    "from tqdm import tqdm\n",
    "import warnings\n",
    "from datetime import datetime\n",
    "import lightgbm as lgb\n",
    "\n",
    "warnings.filterwarnings('ignore')"
   ]
  },
  {
   "cell_type": "code",
   "execution_count": 2,
   "metadata": {
    "collapsed": true
   },
   "outputs": [],
   "source": [
    "d = pd.read_pickle('train_total.pkl')\n",
    "df_ = pd.read_csv('label.csv')\n",
    "pos_uin = list(df_[df_['label'] == 1]['uin'])\n",
    "neg_uin = list(df_[df_['label'] == 0]['uin'])\n",
    "sample_uin = neg_uin[8723:18723]\n",
    "df = d[d['uin'].isin(sample_uin)]\n",
    "del d"
   ]
  },
  {
   "cell_type": "code",
   "execution_count": 3,
   "metadata": {},
   "outputs": [
    {
     "name": "stderr",
     "output_type": "stream",
     "text": [
      "100%|████████████████████████████████████| 10000/10000 [14:10<00:00, 11.76it/s]\n"
     ]
    }
   ],
   "source": [
    "df_temp = df.groupby(['uin', 'kill_time'])['deltaX'].agg([\n",
    "    ('deltaX_range_diff', 'diff'), \n",
    "     ])\n",
    "df['deltaX_range_diff'] = df_temp['deltaX_range_diff']\n",
    "agg_list = []\n",
    "for uin in tqdm(set(df['uin'])):\n",
    "    df__ = df[df['uin'] == uin][['uin', 'kill_time', 'deltaX_range_diff']]\n",
    "    df_temp = df__.groupby(['kill_time'])['deltaX_range_diff'].agg([\n",
    "    ('deltaX_range_max', 'max'),     \n",
    "    ('deltaX_range_min', 'min'),\n",
    "    ('deltaX_range_mean', 'mean'),\n",
    "    ('deltaX_range_std', 'std'),\n",
    "    ('deltaX_range_skew', 'skew'),\n",
    "        ]).reset_index()\n",
    "    df_temp['uin'] = uin\n",
    "    agg_list.append(df_temp)\n",
    "del df['deltaX_range_diff']\n",
    "\n",
    "df_temp = pd.concat(agg_list, axis=0)\n",
    "del agg_list\n",
    "df_ = pd.merge(df_, df_temp, on=['uin'], how='left')\n",
    "del df_temp"
   ]
  },
  {
   "cell_type": "code",
   "execution_count": 4,
   "metadata": {},
   "outputs": [
    {
     "name": "stderr",
     "output_type": "stream",
     "text": [
      "100%|████████████████████████████████████| 10000/10000 [14:12<00:00, 11.73it/s]\n"
     ]
    }
   ],
   "source": [
    "df_temp = df.groupby(['uin', 'kill_time'])['deltaY'].agg([\n",
    "    ('deltaY_range_diff', 'diff'), \n",
    "     ])\n",
    "df['deltaY_range_diff'] = df_temp['deltaY_range_diff']\n",
    "agg_list = []\n",
    "for uin in tqdm(set(df['uin'])):\n",
    "    df__ = df[df['uin'] == uin][['kill_time', 'deltaY_range_diff']]\n",
    "    df_temp = df__.groupby(['kill_time'])['deltaY_range_diff'].agg([\n",
    "        ('deltaY_range_max', 'max'),     \n",
    "            ('deltaY_range_min', 'min'),\n",
    "    ('deltaY_range_mean', 'mean'),\n",
    "    ('deltaY_range_std', 'std'),\n",
    "    ('deltaY_range_skew', 'skew'),\n",
    "        ]).reset_index()\n",
    "    df_temp['uin'] = uin\n",
    "    agg_list.append(df_temp)\n",
    "del df['deltaY_range_diff']   \n",
    "df_temp = pd.concat(agg_list, axis=0)\n",
    "del agg_list\n",
    "df_ = pd.merge(df_, df_temp, on=['uin', 'kill_time'], how='left')\n",
    "del df_temp"
   ]
  },
  {
   "cell_type": "code",
   "execution_count": 5,
   "metadata": {},
   "outputs": [
    {
     "name": "stderr",
     "output_type": "stream",
     "text": [
      "100%|████████████████████████████████████| 10000/10000 [13:23<00:00, 12.45it/s]\n"
     ]
    }
   ],
   "source": [
    "agg_list = []\n",
    "for uin in tqdm(set(df['uin'])):\n",
    "    df__ = df[df['uin'] == uin][['kill_time', 'button']]\n",
    "    df_temp = df__.groupby(['kill_time'])['button'].agg([\n",
    "        ('button_nunique', 'nunique'),     \n",
    "        ])\n",
    "    df_temp['uin'] = uin\n",
    "    agg_list.append(df_temp)\n",
    "df_temp = pd.concat(agg_list, axis=0)\n",
    "del agg_list\n",
    "df_ = pd.merge(df_, df_temp, on=['uin', 'kill_time'], how='left')\n",
    "del df_temp"
   ]
  },
  {
   "cell_type": "code",
   "execution_count": 6,
   "metadata": {},
   "outputs": [
    {
     "name": "stderr",
     "output_type": "stream",
     "text": [
      "100%|████████████████████████████████████| 10000/10000 [20:36<00:00,  8.09it/s]\n"
     ]
    }
   ],
   "source": [
    "target = 'button'\n",
    "df_w2v = pd.read_csv('button_w2v.csv')\n",
    "df = pd.merge(df, df_w2v, on=target, how='left')\n",
    "\n",
    "agg_list = []\n",
    "for uin in tqdm(set(df['uin'])):\n",
    "    df__ = df[df['uin'] == uin][['kill_time'] +['w2v_%s_%d'%(target, x) for x in range(10)]]\n",
    "    df__.reset_index(drop=True, inplace=True)\n",
    "    df_temp = df__.drop_duplicates('kill_time')[['kill_time']]\n",
    "    for i in range(10):\n",
    "        d = df__.groupby(['kill_time'])['w2v_%s_%d'%(target, i)].agg([\n",
    "            (f'{target}_w2v_mean_{i}', 'mean'),     \n",
    "            ])\n",
    "        df_temp = pd.merge(df_temp, d, on='kill_time', how='left')\n",
    "    df_temp['uin'] = uin\n",
    "    agg_list.append(df_temp)\n",
    "df_temp = pd.concat(agg_list, axis=0)\n",
    "del agg_list\n",
    "df_ = pd.merge(df_, df_temp, on=['uin', 'kill_time'], how='left')\n",
    "del df_temp"
   ]
  },
  {
   "cell_type": "code",
   "execution_count": 7,
   "metadata": {
    "collapsed": true
   },
   "outputs": [],
   "source": [
    "df_.to_pickle('train_feature_20000_1.pkl')"
   ]
  },
  {
   "cell_type": "code",
   "execution_count": 3,
   "metadata": {
    "collapsed": true
   },
   "outputs": [],
   "source": [
    "deltaX_list = list(df['deltaX'])\n",
    "deltaY_list = list(df['deltaY'])\n",
    "XY = [math.sqrt(i ** 2 + j ** 2) for i, j in zip(deltaX_list, deltaY_list)]\n",
    "df['deltaXY'] = XY\n",
    "del XY\n",
    "del deltaX_list\n",
    "del deltaY_list"
   ]
  },
  {
   "cell_type": "code",
   "execution_count": 4,
   "metadata": {},
   "outputs": [
    {
     "name": "stderr",
     "output_type": "stream",
     "text": [
      "100%|████████████████████████████████████| 10000/10000 [15:34<00:00, 10.70it/s]\n",
      "100%|████████████████████████████████████| 10000/10000 [15:42<00:00, 10.61it/s]\n",
      "100%|████████████████████████████████████| 10000/10000 [14:52<00:00, 11.21it/s]\n"
     ]
    }
   ],
   "source": [
    "for f in ['deltaX', 'deltaY', 'deltaXY']:\n",
    "    agg_list = []\n",
    "    for uin in tqdm(set(df['uin'])):\n",
    "        df__ = df[df['uin'] == uin][['uin', 'kill_time', f]]\n",
    "        df_temp = df__.groupby(['kill_time'])[f].agg([\n",
    "        (f'{f}_max', 'max'),     \n",
    "        (f'{f}_min', 'min'),\n",
    "        (f'{f}_mean', 'mean'),\n",
    "        (f'{f}_std', 'std'),\n",
    "        (f'{f}_skew', 'skew'),\n",
    "            ]).reset_index()\n",
    "        df_temp['uin'] = uin\n",
    "        agg_list.append(df_temp)\n",
    "        \n",
    "    df_temp = pd.concat(agg_list, axis=0)\n",
    "    del agg_list\n",
    "    if f == 'deltaX':\n",
    "        df_ = pd.merge(df_, df_temp, on=['uin'], how='left')\n",
    "    else:\n",
    "        df_ = pd.merge(df_, df_temp, on=['uin', 'kill_time'], how='left')\n",
    "    del df_temp"
   ]
  },
  {
   "cell_type": "code",
   "execution_count": 5,
   "metadata": {},
   "outputs": [
    {
     "name": "stderr",
     "output_type": "stream",
     "text": [
      "100%|████████████████████████████████████| 10000/10000 [15:15<00:00, 10.93it/s]\n"
     ]
    }
   ],
   "source": [
    "df_temp = df.groupby(['uin', 'kill_time'])['deltaXY'].agg([\n",
    "    ('deltaXY_range_diff', 'diff'), \n",
    "     ])\n",
    "df['deltaXY_range_diff'] = df_temp['deltaXY_range_diff']\n",
    "agg_list = []\n",
    "for uin in tqdm(set(df['uin'])):\n",
    "    df__ = df[df['uin'] == uin][['kill_time', 'deltaXY_range_diff']]\n",
    "    df_temp = df__.groupby(['kill_time'])['deltaXY_range_diff'].agg([\n",
    "        ('deltaXY_range_max', 'max'),     \n",
    "            ('deltaXY_range_min', 'min'),\n",
    "    ('deltaXY_range_mean', 'mean'),\n",
    "    ('deltaXY_range_std', 'std'),\n",
    "    ('deltaXY_range_skew', 'skew'),\n",
    "        ]).reset_index()\n",
    "    df_temp['uin'] = uin\n",
    "    agg_list.append(df_temp)\n",
    "del df['deltaXY_range_diff']\n",
    "df_temp = pd.concat(agg_list, axis=0)\n",
    "del agg_list\n",
    "df_ = pd.merge(df_, df_temp, on=['uin', 'kill_time'], how='left')\n",
    "del df_temp"
   ]
  },
  {
   "cell_type": "code",
   "execution_count": 6,
   "metadata": {
    "collapsed": true
   },
   "outputs": [],
   "source": [
    "df_.to_pickle('train_faeture_20000_1_.pkl')"
   ]
  },
  {
   "cell_type": "code",
   "execution_count": null,
   "metadata": {
    "collapsed": true
   },
   "outputs": [],
   "source": []
  }
 ],
 "metadata": {
  "kernelspec": {
   "display_name": "Python 3",
   "language": "python",
   "name": "python3"
  },
  "language_info": {
   "codemirror_mode": {
    "name": "ipython",
    "version": 3
   },
   "file_extension": ".py",
   "mimetype": "text/x-python",
   "name": "python",
   "nbconvert_exporter": "python",
   "pygments_lexer": "ipython3",
   "version": "3.6.1"
  }
 },
 "nbformat": 4,
 "nbformat_minor": 2
}
