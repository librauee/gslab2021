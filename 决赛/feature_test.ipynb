{
 "cells": [
  {
   "cell_type": "code",
   "execution_count": 1,
   "metadata": {
    "collapsed": true
   },
   "outputs": [],
   "source": [
    "import math\n",
    "import numpy as np\n",
    "import pandas as pd\n",
    "import matplotlib.pyplot as plt\n",
    "import xgboost as xgb\n",
    "from sklearn.decomposition import LatentDirichletAllocation, NMF, TruncatedSVD\n",
    "from sklearn.feature_extraction.text import CountVectorizer, TfidfVectorizer\n",
    "from sklearn.metrics import f1_score, fbeta_score, precision_score, recall_score, roc_auc_score\n",
    "from sklearn.model_selection import StratifiedKFold\n",
    "from sklearn.preprocessing import LabelEncoder\n",
    "from tqdm import tqdm\n",
    "import warnings\n",
    "from datetime import datetime\n",
    "import lightgbm as lgb\n",
    "\n",
    "warnings.filterwarnings('ignore')"
   ]
  },
  {
   "cell_type": "code",
   "execution_count": 2,
   "metadata": {},
   "outputs": [
    {
     "name": "stderr",
     "output_type": "stream",
     "text": [
      "14it [01:58,  8.48s/it]\n"
     ]
    }
   ],
   "source": [
    "dtype={\n",
    "    1:'category',\n",
    "    2:\"float32\",\n",
    "    3:\"float32\",\n",
    "    4:\"uint16\",\n",
    "    5:\"int32\",\n",
    "    6:\"int32\",\n",
    "    7:\"uint32\",\n",
    "    8:\"float32\",\n",
    "    9:\"float32\",\n",
    "    10:\"float32\",\n",
    "    11:\"float32\",\n",
    "    12:\"uint8\",\n",
    "    13:\"uint64\",\n",
    "}\n",
    "def get_df(f):\n",
    "    files = []\n",
    "    for chunk in tqdm(pd.read_csv(f, sep='\\|', header=None, usecols=range(1, 14), chunksize=1000000, dtype=dtype)):\n",
    "        files.append(chunk)\n",
    "    return files\n",
    "chunk = get_df('cp_rawdata_0512_4.txt')\n",
    "\n",
    "df = pd.concat(chunk,axis=0)\n",
    "del chunk"
   ]
  },
  {
   "cell_type": "code",
   "execution_count": 3,
   "metadata": {},
   "outputs": [
    {
     "name": "stdout",
     "output_type": "stream",
     "text": [
      "<class 'pandas.core.frame.DataFrame'>\n",
      "RangeIndex: 13377187 entries, 0 to 13377186\n",
      "Data columns (total 13 columns):\n",
      " #   Column     Dtype   \n",
      "---  ------     -----   \n",
      " 0   uin        category\n",
      " 1   kill_time  float32 \n",
      " 2   time_new   float32 \n",
      " 3   index      uint16  \n",
      " 4   deltaX     int32   \n",
      " 5   deltaY     int32   \n",
      " 6   button     uint32  \n",
      " 7   pitch      float32 \n",
      " 8   yaw        float32 \n",
      " 9   pitch_r    float32 \n",
      " 10  yaw_r      float32 \n",
      " 11  type       uint8   \n",
      " 12  weapon_id  uint64  \n",
      "dtypes: category(1), float32(6), int32(2), uint16(1), uint32(1), uint64(1), uint8(1)\n",
      "memory usage: 625.2 MB\n"
     ]
    }
   ],
   "source": [
    "col_names = ['uin', 'kill_time', 'time_new', 'index', 'deltaX', 'deltaY', \n",
    "             'button', 'pitch', 'yaw','pitch_r', 'yaw_r', 'type', 'weapon_id']\n",
    "df.columns = col_names\n",
    "df['uin'] = df['uin'].astype('category')\n",
    "df.info()"
   ]
  },
  {
   "cell_type": "code",
   "execution_count": 15,
   "metadata": {},
   "outputs": [
    {
     "name": "stderr",
     "output_type": "stream",
     "text": [
      "100%|███████████████████████████████████████████| 5/5 [15:29<00:00, 185.95s/it]\n"
     ]
    }
   ],
   "source": [
    "d = df.copy()\n",
    "df['uin'] = df['uin'].astype('str')\n",
    "df['kill_time'] = df['kill_time'].astype('str')\n",
    "d['uin_time'] = df['uin'] + df['kill_time']\n",
    "d.sort_values('uin_time', inplace=True)\n",
    "for f in tqdm(['deltaX', 'deltaY', 'yaw', 'pitch_r', 'yaw_r']):\n",
    "    t = d.groupby('uin_time')[f].rolling(window=10, center=True)\n",
    "    d[f'rolling_mean_{f}']= t.mean().values\n",
    "    d[f'rolling_max_{f}']= t.max().values\n",
    "    d[f'rolling_min_{f}']= t.min().values\n",
    "    d[f'rolling_std_{f}']= t.std().values\n",
    "    t = d.groupby('uin_time')[f].rolling(window=20, center=True)\n",
    "    d[f'rolling_mean_{f}_20']= t.mean().values\n",
    "    d[f'rolling_max_{f}_20']= t.max().values\n",
    "    d[f'rolling_min_{f}_20']= t.min().values\n",
    "    d[f'rolling_std_{f}_20']= t.std().values\n",
    "    t = d.groupby('uin_time')[f].rolling(window=30, center=True)\n",
    "    d[f'rolling_mean_{f}_30']= t.mean().values\n",
    "    d[f'rolling_max_{f}_30']= t.max().values\n",
    "    d[f'rolling_min_{f}_30']= t.min().values\n",
    "    d[f'rolling_std_{f}_30']= t.std().values\n",
    "idx_max_list = d.groupby('uin_time')['type'].idxmax()\n",
    "df_temp = d.loc[idx_max_list]"
   ]
  },
  {
   "cell_type": "code",
   "execution_count": 23,
   "metadata": {
    "collapsed": true
   },
   "outputs": [],
   "source": [
    "df_temp.drop(['time_new', 'index', 'deltaX', 'deltaY', 'button',\n",
    "       'pitch', 'yaw', 'pitch_r', 'yaw_r', 'type', 'weapon_id', 'uin_time'], axis=1).to_pickle('rolling_feature_test.pkl')"
   ]
  },
  {
   "cell_type": "code",
   "execution_count": 5,
   "metadata": {},
   "outputs": [
    {
     "data": {
      "text/html": [
       "<div>\n",
       "<style scoped>\n",
       "    .dataframe tbody tr th:only-of-type {\n",
       "        vertical-align: middle;\n",
       "    }\n",
       "\n",
       "    .dataframe tbody tr th {\n",
       "        vertical-align: top;\n",
       "    }\n",
       "\n",
       "    .dataframe thead th {\n",
       "        text-align: right;\n",
       "    }\n",
       "</style>\n",
       "<table border=\"1\" class=\"dataframe\">\n",
       "  <thead>\n",
       "    <tr style=\"text-align: right;\">\n",
       "      <th></th>\n",
       "      <th>uin</th>\n",
       "    </tr>\n",
       "  </thead>\n",
       "  <tbody>\n",
       "    <tr>\n",
       "      <th>0</th>\n",
       "      <td>55f56b53f31dab28ca80aceb5a926945</td>\n",
       "    </tr>\n",
       "    <tr>\n",
       "      <th>1</th>\n",
       "      <td>4bbcb5adc84ba8d74df305253747f0e8</td>\n",
       "    </tr>\n",
       "    <tr>\n",
       "      <th>2</th>\n",
       "      <td>4a4d1876ebf7bf7753570410b839d3dd</td>\n",
       "    </tr>\n",
       "    <tr>\n",
       "      <th>3</th>\n",
       "      <td>8a740dbed086c66ae2683474535a09a2</td>\n",
       "    </tr>\n",
       "    <tr>\n",
       "      <th>4</th>\n",
       "      <td>54b9aafdb368d69665c6faa46d0e1156</td>\n",
       "    </tr>\n",
       "  </tbody>\n",
       "</table>\n",
       "</div>"
      ],
      "text/plain": [
       "                                uin\n",
       "0  55f56b53f31dab28ca80aceb5a926945\n",
       "1  4bbcb5adc84ba8d74df305253747f0e8\n",
       "2  4a4d1876ebf7bf7753570410b839d3dd\n",
       "3  8a740dbed086c66ae2683474535a09a2\n",
       "4  54b9aafdb368d69665c6faa46d0e1156"
      ]
     },
     "execution_count": 5,
     "metadata": {},
     "output_type": "execute_result"
    }
   ],
   "source": [
    "df['yaw_difference'] = df['yaw'] - df['yaw_r']\n",
    "df_ = pd.read_csv('测试集玩家名单.txt', sep='\\|', header=None)\n",
    "df_.columns = ['uin']\n",
    "df_.head()"
   ]
  },
  {
   "cell_type": "code",
   "execution_count": 6,
   "metadata": {},
   "outputs": [
    {
     "name": "stderr",
     "output_type": "stream",
     "text": [
      "100%|██████████████████████████████████████| 2000/2000 [00:51<00:00, 38.84it/s]\n"
     ]
    }
   ],
   "source": [
    "f = 'pitch_r'\n",
    "df_temp = df.groupby(['uin', 'kill_time'])[f'{f}'].agg([\n",
    "    (f'{f}_range_diff', 'diff'), \n",
    "     ])\n",
    "df[f'{f}_range_diff'] = df_temp[f'{f}_range_diff']\n",
    "agg_list = []\n",
    "for uin in tqdm(set(df['uin'])):\n",
    "    df__ = df[df['uin'] == uin][['uin', 'kill_time', f'{f}_range_diff']]\n",
    "    df_temp = df__.groupby(['kill_time'])[f'{f}_range_diff'].agg([\n",
    "    (f'{f}_range_max', 'max'),     \n",
    "    (f'{f}_range_min', 'min'),\n",
    "    (f'{f}_range_mean', 'mean'),\n",
    "    (f'{f}_range_std', 'std'),\n",
    "    (f'{f}_range_skew', 'skew'),\n",
    "        ]).reset_index()\n",
    "    df_temp['uin'] = uin\n",
    "    agg_list.append(df_temp)\n",
    "del df[f'{f}_range_diff']\n",
    "df_temp = pd.concat(agg_list, axis=0)\n",
    "del agg_list\n",
    "df_ = pd.merge(df_, df_temp, on=['uin'], how='left')\n",
    "del df_temp"
   ]
  },
  {
   "cell_type": "code",
   "execution_count": 7,
   "metadata": {},
   "outputs": [
    {
     "name": "stderr",
     "output_type": "stream",
     "text": [
      "100%|██████████████████████████████████████| 2000/2000 [00:52<00:00, 38.45it/s]\n"
     ]
    }
   ],
   "source": [
    "f = 'yaw_r'\n",
    "df_temp = df.groupby(['uin', 'kill_time'])[f'{f}'].agg([\n",
    "    (f'{f}_range_diff', 'diff'), \n",
    "     ])\n",
    "df[f'{f}_range_diff'] = df_temp[f'{f}_range_diff']\n",
    "agg_list = []\n",
    "for uin in tqdm(set(df['uin'])):\n",
    "    df__ = df[df['uin'] == uin][['uin', 'kill_time', f'{f}_range_diff']]\n",
    "    df_temp = df__.groupby(['kill_time'])[f'{f}_range_diff'].agg([\n",
    "    (f'{f}_range_max', 'max'),     \n",
    "    (f'{f}_range_min', 'min'),\n",
    "    (f'{f}_range_mean', 'mean'),\n",
    "    (f'{f}_range_std', 'std'),\n",
    "    (f'{f}_range_skew', 'skew'),\n",
    "        ]).reset_index()\n",
    "    df_temp['uin'] = uin\n",
    "    agg_list.append(df_temp)\n",
    "del df[f'{f}_range_diff']\n",
    "\n",
    "df_temp = pd.concat(agg_list, axis=0)\n",
    "del agg_list\n",
    "df_ = pd.merge(df_, df_temp, on=['uin', 'kill_time'], how='left')\n",
    "del df_temp"
   ]
  },
  {
   "cell_type": "code",
   "execution_count": 8,
   "metadata": {},
   "outputs": [
    {
     "name": "stderr",
     "output_type": "stream",
     "text": [
      "100%|██████████████████████████████████████| 2000/2000 [00:53<00:00, 37.43it/s]\n"
     ]
    }
   ],
   "source": [
    "f = 'yaw'\n",
    "df_temp = df.groupby(['uin', 'kill_time'])[f'{f}'].agg([\n",
    "    (f'{f}_range_diff', 'diff'), \n",
    "     ])\n",
    "df[f'{f}_range_diff'] = df_temp[f'{f}_range_diff']\n",
    "agg_list = []\n",
    "for uin in tqdm(set(df['uin'])):\n",
    "    df__ = df[df['uin'] == uin][['uin', 'kill_time', f'{f}_range_diff']]\n",
    "    df_temp = df__.groupby(['kill_time'])[f'{f}_range_diff'].agg([\n",
    "    (f'{f}_range_max', 'max'),     \n",
    "    (f'{f}_range_min', 'min'),\n",
    "    (f'{f}_range_mean', 'mean'),\n",
    "    (f'{f}_range_std', 'std'),\n",
    "    (f'{f}_range_skew', 'skew'),\n",
    "        ]).reset_index()\n",
    "    df_temp['uin'] = uin\n",
    "    agg_list.append(df_temp)\n",
    "del df[f'{f}_range_diff']\n",
    "\n",
    "df_temp = pd.concat(agg_list, axis=0)\n",
    "del agg_list\n",
    "df_ = pd.merge(df_, df_temp, on=['uin', 'kill_time'], how='left')\n",
    "del df_temp"
   ]
  },
  {
   "cell_type": "code",
   "execution_count": 9,
   "metadata": {},
   "outputs": [
    {
     "name": "stderr",
     "output_type": "stream",
     "text": [
      "100%|██████████████████████████████████████| 2000/2000 [00:49<00:00, 40.57it/s]\n"
     ]
    }
   ],
   "source": [
    "agg_list = []\n",
    "for uin in tqdm(set(df['uin'])):\n",
    "    df__ = df[df['uin'] == uin][['kill_time', 'weapon_id']]\n",
    "    df_temp = df__.groupby(['kill_time'])['weapon_id'].agg([\n",
    "        ('weapon_id_nunique', 'nunique'),     \n",
    "        ])\n",
    "    df_temp['uin'] = uin\n",
    "    df_temp = pd.merge(df_temp, df__.drop_duplicates('kill_time'), on=['kill_time'], how='left')\n",
    "    agg_list.append(df_temp)\n",
    "df_temp = pd.concat(agg_list, axis=0)\n",
    "del agg_list\n",
    "df_ = pd.merge(df_, df_temp, on=['uin', 'kill_time'], how='left')\n",
    "del df_temp"
   ]
  },
  {
   "cell_type": "code",
   "execution_count": 10,
   "metadata": {},
   "outputs": [
    {
     "name": "stderr",
     "output_type": "stream",
     "text": [
      "100%|██████████████████████████████████████| 2000/2000 [00:51<00:00, 38.86it/s]\n",
      "100%|██████████████████████████████████████| 2000/2000 [00:52<00:00, 38.26it/s]\n",
      "100%|██████████████████████████████████████| 2000/2000 [00:52<00:00, 38.33it/s]\n",
      "100%|██████████████████████████████████████| 2000/2000 [00:52<00:00, 38.06it/s]\n"
     ]
    }
   ],
   "source": [
    "for f in ['yaw_r', 'pitch_r', 'yaw', 'yaw_difference']:\n",
    "    agg_list = []\n",
    "    for uin in tqdm(set(df['uin'])):\n",
    "        df__ = df[df['uin'] == uin][['uin', 'kill_time', f]]\n",
    "        df_temp = df__.groupby(['kill_time'])[f].agg([\n",
    "        (f'{f}_max', 'max'),     \n",
    "        (f'{f}_min', 'min'),\n",
    "        (f'{f}_mean', 'mean'),\n",
    "        (f'{f}_std', 'std'),\n",
    "        (f'{f}_skew', 'skew'),\n",
    "            ]).reset_index()\n",
    "        df_temp['uin'] = uin\n",
    "        agg_list.append(df_temp)\n",
    "    df_temp = pd.concat(agg_list, axis=0)\n",
    "    del agg_list\n",
    "    df_ = pd.merge(df_, df_temp, on=['uin', 'kill_time'], how='left')\n",
    "    del df_temp"
   ]
  },
  {
   "cell_type": "code",
   "execution_count": 11,
   "metadata": {},
   "outputs": [
    {
     "name": "stderr",
     "output_type": "stream",
     "text": [
      "100%|██████████████████████████████████████| 2000/2000 [00:41<00:00, 48.37it/s]\n"
     ]
    }
   ],
   "source": [
    "agg_list = []\n",
    "for uin in tqdm(set(df['uin'])):\n",
    "    df__ = df[df['uin'] == uin][['kill_time', 'type', 'index']]\n",
    "    df__.reset_index(drop=True, inplace=True)\n",
    "    \n",
    "    df_temp = df__.groupby(['kill_time'])['type'].agg([\n",
    "        ('type_nunique', 'nunique'),     \n",
    "        ])\n",
    "    df_temp['uin'] = uin\n",
    "    agg_list.append(df_temp)\n",
    "df_temp = pd.concat(agg_list, axis=0)\n",
    "del agg_list\n",
    "df_ = pd.merge(df_, df_temp, on=['uin', 'kill_time'], how='left')\n",
    "del df_temp"
   ]
  },
  {
   "cell_type": "code",
   "execution_count": 12,
   "metadata": {},
   "outputs": [
    {
     "name": "stderr",
     "output_type": "stream",
     "text": [
      "100%|██████████████████████████████████████| 2000/2000 [02:10<00:00, 15.31it/s]\n"
     ]
    }
   ],
   "source": [
    "target = 'type'\n",
    "df_w2v = pd.read_csv('type_w2v.csv')\n",
    "df = pd.merge(df, df_w2v, on=target, how='left')\n",
    "\n",
    "agg_list = []\n",
    "for uin in tqdm(set(df['uin'])):\n",
    "    df__ = df[df['uin'] == uin][['kill_time'] +['w2v_%s_%d'%(target, x) for x in range(10)]]\n",
    "    df__.reset_index(drop=True, inplace=True)\n",
    "    df_temp = df__.drop_duplicates('kill_time')[['kill_time']]\n",
    "    for i in range(10):\n",
    "        d = df__.groupby(['kill_time'])['w2v_%s_%d'%(target, i)].agg([\n",
    "            (f'{target}_w2v_mean_{i}', 'mean'),     \n",
    "            ])\n",
    "        df_temp = pd.merge(df_temp, d, on='kill_time', how='left')\n",
    "    df_temp['uin'] = uin\n",
    "    agg_list.append(df_temp)\n",
    "df_temp = pd.concat(agg_list, axis=0)\n",
    "del agg_list\n",
    "df_ = pd.merge(df_, df_temp, on=['uin', 'kill_time'], how='left')\n",
    "del df_temp"
   ]
  },
  {
   "cell_type": "code",
   "execution_count": 13,
   "metadata": {
    "collapsed": true
   },
   "outputs": [],
   "source": [
    "df_['kill_count'] = df.groupby('uin')['kill_time'].transform('nunique')\n",
    "df_temp = df_.groupby('uin')['kill_time'].agg([\n",
    "    ('kill_time_max', 'max'),\n",
    "    ('kill_time_min', 'min'),    \n",
    "    ('kill_time_range_max', lambda x: x.diff().max()), \n",
    "    ('kill_time_range_min', lambda x: x.diff().min()),\n",
    "    ('kill_time_range_mean', lambda x: x.diff().mean()),\n",
    "    ('kill_time_range_std', lambda x: x.diff().std()),\n",
    "    ('kill_time_range_skew', lambda x: x.diff().skew()),\n",
    "        ])\n",
    "df_ = pd.merge(df_, df_temp, on='uin', how='left')\n",
    "del df_temp"
   ]
  },
  {
   "cell_type": "code",
   "execution_count": 14,
   "metadata": {
    "collapsed": true
   },
   "outputs": [],
   "source": [
    "df_['kill_time_diff'] = df_['kill_time_max'] - df_['kill_time_min']\n",
    "df_['kill_time_ratio'] = df_['kill_time_diff'] / df_['kill_count']"
   ]
  },
  {
   "cell_type": "code",
   "execution_count": 18,
   "metadata": {},
   "outputs": [
    {
     "data": {
      "text/plain": [
       "Index(['uin', 'kill_time', 'pitch_r_range_max', 'pitch_r_range_min',\n",
       "       'pitch_r_range_mean', 'pitch_r_range_std', 'pitch_r_range_skew',\n",
       "       'yaw_r_range_max', 'yaw_r_range_min', 'yaw_r_range_mean',\n",
       "       'yaw_r_range_std', 'yaw_r_range_skew', 'yaw_range_max', 'yaw_range_min',\n",
       "       'yaw_range_mean', 'yaw_range_std', 'yaw_range_skew',\n",
       "       'weapon_id_nunique', 'weapon_id', 'yaw_r_max', 'yaw_r_min',\n",
       "       'yaw_r_mean', 'yaw_r_std', 'yaw_r_skew', 'pitch_r_max', 'pitch_r_min',\n",
       "       'pitch_r_mean', 'pitch_r_std', 'pitch_r_skew', 'yaw_max', 'yaw_min',\n",
       "       'yaw_mean', 'yaw_std', 'yaw_skew', 'yaw_difference_max',\n",
       "       'yaw_difference_min', 'yaw_difference_mean', 'yaw_difference_std',\n",
       "       'yaw_difference_skew', 'type_nunique', 'type_w2v_mean_0',\n",
       "       'type_w2v_mean_1', 'type_w2v_mean_2', 'type_w2v_mean_3',\n",
       "       'type_w2v_mean_4', 'type_w2v_mean_5', 'type_w2v_mean_6',\n",
       "       'type_w2v_mean_7', 'type_w2v_mean_8', 'type_w2v_mean_9', 'kill_count',\n",
       "       'kill_time_max', 'kill_time_min', 'kill_time_range_max',\n",
       "       'kill_time_range_min', 'kill_time_range_mean', 'kill_time_range_std',\n",
       "       'kill_time_range_skew', 'kill_time_diff', 'kill_time_ratio'],\n",
       "      dtype='object')"
      ]
     },
     "execution_count": 18,
     "metadata": {},
     "output_type": "execute_result"
    }
   ],
   "source": [
    "df_.columns"
   ]
  },
  {
   "cell_type": "markdown",
   "metadata": {},
   "source": [
    "# Feature1"
   ]
  },
  {
   "cell_type": "code",
   "execution_count": 19,
   "metadata": {},
   "outputs": [
    {
     "name": "stderr",
     "output_type": "stream",
     "text": [
      "100%|██████████████████████████████████████| 2000/2000 [00:52<00:00, 37.81it/s]\n"
     ]
    }
   ],
   "source": [
    "df_temp = df.groupby(['uin', 'kill_time'])['deltaX'].agg([\n",
    "    ('deltaX_range_diff', 'diff'), \n",
    "     ])\n",
    "df['deltaX_range_diff'] = df_temp['deltaX_range_diff']\n",
    "agg_list = []\n",
    "for uin in tqdm(set(df['uin'])):\n",
    "    df__ = df[df['uin'] == uin][['uin', 'kill_time', 'deltaX_range_diff']]\n",
    "    df_temp = df__.groupby(['kill_time'])['deltaX_range_diff'].agg([\n",
    "    ('deltaX_range_max', 'max'),     \n",
    "    ('deltaX_range_min', 'min'),\n",
    "    ('deltaX_range_mean', 'mean'),\n",
    "    ('deltaX_range_std', 'std'),\n",
    "    ('deltaX_range_skew', 'skew'),\n",
    "        ]).reset_index()\n",
    "    df_temp['uin'] = uin\n",
    "    agg_list.append(df_temp)\n",
    "del df['deltaX_range_diff']\n",
    "\n",
    "df_temp = pd.concat(agg_list, axis=0)\n",
    "del agg_list\n",
    "df_ = pd.merge(df_, df_temp, on=['uin', 'kill_time'], how='left')\n",
    "del df_temp"
   ]
  },
  {
   "cell_type": "code",
   "execution_count": 27,
   "metadata": {},
   "outputs": [
    {
     "name": "stderr",
     "output_type": "stream",
     "text": [
      "100%|██████████████████████████████████████| 2000/2000 [00:52<00:00, 38.03it/s]\n"
     ]
    }
   ],
   "source": [
    "df_temp = df.groupby(['uin', 'kill_time'])['deltaY'].agg([\n",
    "    ('deltaY_range_diff', 'diff'), \n",
    "     ])\n",
    "df['deltaY_range_diff'] = df_temp['deltaY_range_diff']\n",
    "agg_list = []\n",
    "for uin in tqdm(set(df['uin'])):\n",
    "    df__ = df[df['uin'] == uin][['kill_time', 'deltaY_range_diff']]\n",
    "    df_temp = df__.groupby(['kill_time'])['deltaY_range_diff'].agg([\n",
    "        ('deltaY_range_max', 'max'),     \n",
    "            ('deltaY_range_min', 'min'),\n",
    "    ('deltaY_range_mean', 'mean'),\n",
    "    ('deltaY_range_std', 'std'),\n",
    "    ('deltaY_range_skew', 'skew'),\n",
    "        ]).reset_index()\n",
    "    df_temp['uin'] = uin\n",
    "    agg_list.append(df_temp)\n",
    "del df['deltaY_range_diff']  \n",
    "\n",
    "df_temp = pd.concat(agg_list, axis=0)\n",
    "del agg_list\n",
    "df_ = pd.merge(df_, df_temp, on=['uin', 'kill_time'], how='left')\n",
    "del df_temp"
   ]
  },
  {
   "cell_type": "code",
   "execution_count": 29,
   "metadata": {},
   "outputs": [
    {
     "name": "stderr",
     "output_type": "stream",
     "text": [
      "100%|██████████████████████████████████████| 2000/2000 [00:41<00:00, 48.48it/s]\n"
     ]
    }
   ],
   "source": [
    "agg_list = []\n",
    "for uin in tqdm(set(df['uin'])):\n",
    "    df__ = df[df['uin'] == uin][['kill_time', 'button']]\n",
    "    df_temp = df__.groupby(['kill_time'])['button'].agg([\n",
    "        ('button_nunique', 'nunique'),     \n",
    "        ])\n",
    "    df_temp['uin'] = uin\n",
    "    agg_list.append(df_temp)\n",
    "df_temp = pd.concat(agg_list, axis=0)\n",
    "del agg_list\n",
    "df_ = pd.merge(df_, df_temp, on=['uin', 'kill_time'], how='left')\n",
    "del df_temp"
   ]
  },
  {
   "cell_type": "code",
   "execution_count": 36,
   "metadata": {},
   "outputs": [
    {
     "name": "stderr",
     "output_type": "stream",
     "text": [
      "100%|██████████████████████████████████████| 2000/2000 [02:05<00:00, 15.98it/s]\n"
     ]
    }
   ],
   "source": [
    "target = 'button'\n",
    "df_w2v = pd.read_csv('button_w2v.csv')\n",
    "df = pd.merge(df, df_w2v, on=target, how='left')\n",
    "\n",
    "agg_list = []\n",
    "for uin in tqdm(set(df['uin'])):\n",
    "    df__ = df[df['uin'] == uin][['kill_time'] +['w2v_%s_%d'%(target, x) for x in range(10)]]\n",
    "    df__.reset_index(drop=True, inplace=True)\n",
    "    df_temp = df__.drop_duplicates('kill_time')[['kill_time']]\n",
    "    for i in range(10):\n",
    "        d = df__.groupby(['kill_time'])['w2v_%s_%d'%(target, i)].agg([\n",
    "            (f'{target}_w2v_mean_{i}', 'mean'),     \n",
    "            ])\n",
    "        df_temp = pd.merge(df_temp, d, on='kill_time', how='left')\n",
    "    df_temp['uin'] = uin\n",
    "    agg_list.append(df_temp)\n",
    "df_temp = pd.concat(agg_list, axis=0)\n",
    "del agg_list\n",
    "df_ = pd.merge(df_, df_temp, on=['uin', 'kill_time'], how='left')\n",
    "del df_temp"
   ]
  },
  {
   "cell_type": "code",
   "execution_count": 30,
   "metadata": {},
   "outputs": [
    {
     "name": "stderr",
     "output_type": "stream",
     "text": [
      "100%|██████████████████████████████████████| 2000/2000 [00:53<00:00, 37.39it/s]\n",
      "100%|██████████████████████████████████████| 2000/2000 [00:52<00:00, 38.17it/s]\n",
      "100%|██████████████████████████████████████| 2000/2000 [00:51<00:00, 38.88it/s]\n"
     ]
    }
   ],
   "source": [
    "df['deltaXY'] = df.apply(lambda x: math.sqrt(x['deltaX'] ** 2 + x['deltaY'] ** 2), axis=1)\n",
    "\n",
    "for f in ['deltaX', 'deltaY', 'deltaXY']:\n",
    "    agg_list = []\n",
    "    for uin in tqdm(set(df['uin'])):\n",
    "        df__ = df[df['uin'] == uin][['uin', 'kill_time', f]]\n",
    "        df_temp = df__.groupby(['kill_time'])[f].agg([\n",
    "        (f'{f}_max', 'max'),     \n",
    "        (f'{f}_min', 'min'),\n",
    "        (f'{f}_mean', 'mean'),\n",
    "        (f'{f}_std', 'std'),\n",
    "        (f'{f}_skew', 'skew'),\n",
    "            ]).reset_index()\n",
    "        df_temp['uin'] = uin\n",
    "        agg_list.append(df_temp)\n",
    "    df_temp = pd.concat(agg_list, axis=0)\n",
    "    del agg_list\n",
    "    df_ = pd.merge(df_, df_temp, on=['uin', 'kill_time'], how='left')\n",
    "    del df_temp"
   ]
  },
  {
   "cell_type": "code",
   "execution_count": 31,
   "metadata": {},
   "outputs": [
    {
     "name": "stderr",
     "output_type": "stream",
     "text": [
      "100%|██████████████████████████████████████| 2000/2000 [00:52<00:00, 38.31it/s]\n"
     ]
    }
   ],
   "source": [
    "df_temp = df.groupby(['uin', 'kill_time'])['deltaXY'].agg([\n",
    "    ('deltaXY_range_diff', 'diff'), \n",
    "     ])\n",
    "df['deltaXY_range_diff'] = df_temp['deltaXY_range_diff']\n",
    "agg_list = []\n",
    "for uin in tqdm(set(df['uin'])):\n",
    "    df__ = df[df['uin'] == uin][['kill_time', 'deltaXY_range_diff']]\n",
    "    df_temp = df__.groupby(['kill_time'])['deltaXY_range_diff'].agg([\n",
    "        ('deltaXY_range_max', 'max'),     \n",
    "            ('deltaXY_range_min', 'min'),\n",
    "    ('deltaXY_range_mean', 'mean'),\n",
    "    ('deltaXY_range_std', 'std'),\n",
    "    ('deltaXY_range_skew', 'skew'),\n",
    "        ]).reset_index()\n",
    "    df_temp['uin'] = uin\n",
    "    agg_list.append(df_temp)\n",
    "del df['deltaXY_range_diff']\n",
    "df_temp = pd.concat(agg_list, axis=0)\n",
    "del agg_list\n",
    "df_ = pd.merge(df_, df_temp, on=['uin', 'kill_time'], how='left')\n",
    "del df_temp"
   ]
  },
  {
   "cell_type": "code",
   "execution_count": 33,
   "metadata": {},
   "outputs": [
    {
     "data": {
      "text/plain": [
       "91"
      ]
     },
     "execution_count": 33,
     "metadata": {},
     "output_type": "execute_result"
    }
   ],
   "source": [
    "len(df_.columns)"
   ]
  },
  {
   "cell_type": "code",
   "execution_count": 37,
   "metadata": {
    "collapsed": true
   },
   "outputs": [],
   "source": [
    "df_.to_pickle('test.pkl')"
   ]
  },
  {
   "cell_type": "code",
   "execution_count": null,
   "metadata": {
    "collapsed": true
   },
   "outputs": [],
   "source": []
  }
 ],
 "metadata": {
  "kernelspec": {
   "display_name": "Python 3",
   "language": "python",
   "name": "python3"
  },
  "language_info": {
   "codemirror_mode": {
    "name": "ipython",
    "version": 3
   },
   "file_extension": ".py",
   "mimetype": "text/x-python",
   "name": "python",
   "nbconvert_exporter": "python",
   "pygments_lexer": "ipython3",
   "version": "3.6.1"
  }
 },
 "nbformat": 4,
 "nbformat_minor": 2
}
