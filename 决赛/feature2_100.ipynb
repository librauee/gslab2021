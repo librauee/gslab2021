{
 "cells": [
  {
   "cell_type": "code",
   "execution_count": 1,
   "metadata": {
    "collapsed": true
   },
   "outputs": [],
   "source": [
    "import math\n",
    "import numpy as np\n",
    "import pandas as pd\n",
    "import matplotlib.pyplot as plt\n",
    "import xgboost as xgb\n",
    "from sklearn.decomposition import LatentDirichletAllocation, NMF, TruncatedSVD\n",
    "from sklearn.feature_extraction.text import CountVectorizer, TfidfVectorizer\n",
    "from sklearn.metrics import f1_score, fbeta_score, precision_score, recall_score, roc_auc_score\n",
    "from sklearn.model_selection import StratifiedKFold\n",
    "from sklearn.preprocessing import LabelEncoder\n",
    "from tqdm import tqdm\n",
    "import warnings\n",
    "from datetime import datetime\n",
    "import lightgbm as lgb\n",
    "\n",
    "warnings.filterwarnings('ignore')"
   ]
  },
  {
   "cell_type": "code",
   "execution_count": null,
   "metadata": {
    "collapsed": true
   },
   "outputs": [],
   "source": [
    "df = pd.read_pickle('train_total_2.pkl')\n",
    "df_ = pd.read_csv('label.csv')\n",
    "pos_uin = list(df_[df_['label'] == 1]['uin'])\n",
    "neg_uin = list(df_[df_['label'] == 0]['uin'])\n",
    "sample_uin = pos_uin + neg_uin[:8723]\n",
    "df = df[df['uin'].isin(sample_uin)]\n",
    "\n",
    "# f = 'yaw'\n",
    "# agg_list = []\n",
    "# for uin in tqdm(set(df['uin'])):\n",
    "#     df__ = df[df['uin'] == uin][['uin', 'kill_time', f'{f}', 'type']]\n",
    "#     df__[f'rolling_mean_{f}']= df__.groupby('kill_time')[f].rolling(window=10).mean().values\n",
    "#     df__[f'rolling_max_{f}']= df__.groupby('kill_time')[f].rolling(window=10).max().values\n",
    "#     df__[f'rolling_min_{f}']= df__.groupby('kill_time')[f].rolling(window=10).min().values\n",
    "#     df__[f'rolling_std_{f}']= df__.groupby('kill_time')[f].rolling(window=10).std().values\n",
    "#     df__[f'rolling_diff_max_{f}']= df__.groupby('kill_time')[f].rolling(window=10, center=True).apply(lambda x: x.diff().max()).values\n",
    "#     df__[f'rolling_diff_min_{f}']= df__.groupby('kill_time')[f].rolling(window=10, center=True).apply(lambda x: x.diff().min()).values\n",
    "#     df__[f'rolling_diff_mean_{f}']= df__.groupby('kill_time')[f].rolling(window=10, center=True).apply(lambda x: x.diff().mean()).values\n",
    "#     df__[f'rolling_diff_std_{f}']= df__.groupby('kill_time')[f].rolling(window=10, center=True).apply(lambda x: x.diff().std()).values\n",
    "#     idx_max_list = df__.groupby('kill_time')['type'].idxmax()\n",
    "#     df_temp = df__.loc[idx_max_list]\n",
    "#     agg_list.append(df_temp.drop(['type', f], axis=1))     "
   ]
  },
  {
   "cell_type": "code",
   "execution_count": 5,
   "metadata": {},
   "outputs": [
    {
     "name": "stderr",
     "output_type": "stream",
     "text": [
      "100%|████████████████████████████████████| 10000/10000 [17:50<00:00,  9.34it/s]\n"
     ]
    }
   ],
   "source": [
    "f = 'pitch_r'\n",
    "df_temp = df.groupby(['uin', 'kill_time'])[f'{f}'].agg([\n",
    "    (f'{f}_range_diff', 'diff'), \n",
    "     ])\n",
    "df[f'{f}_range_diff'] = df_temp[f'{f}_range_diff']\n",
    "agg_list = []\n",
    "for uin in tqdm(set(df['uin'])):\n",
    "    df__ = df[df['uin'] == uin][['uin', 'kill_time', f'{f}_range_diff']]\n",
    "    df_temp = df__.groupby(['kill_time'])[f'{f}_range_diff'].agg([\n",
    "    (f'{f}_range_max', 'max'),     \n",
    "    (f'{f}_range_min', 'min'),\n",
    "    (f'{f}_range_mean', 'mean'),\n",
    "    (f'{f}_range_std', 'std'),\n",
    "    (f'{f}_range_skew', 'skew'),\n",
    "        ]).reset_index()\n",
    "    df_temp['uin'] = uin\n",
    "    agg_list.append(df_temp)\n",
    "del df[f'{f}_range_diff']\n",
    "df_temp = pd.concat(agg_list, axis=0)\n",
    "del agg_list\n",
    "df_ = pd.merge(df_, df_temp, on=['uin'], how='left')\n",
    "del df_temp"
   ]
  },
  {
   "cell_type": "code",
   "execution_count": 6,
   "metadata": {},
   "outputs": [
    {
     "name": "stderr",
     "output_type": "stream",
     "text": [
      "100%|████████████████████████████████████| 10000/10000 [17:51<00:00,  9.33it/s]\n"
     ]
    }
   ],
   "source": [
    "f = 'yaw_r'\n",
    "df_temp = df.groupby(['uin', 'kill_time'])[f'{f}'].agg([\n",
    "    (f'{f}_range_diff', 'diff'), \n",
    "     ])\n",
    "df[f'{f}_range_diff'] = df_temp[f'{f}_range_diff']\n",
    "agg_list = []\n",
    "for uin in tqdm(set(df['uin'])):\n",
    "    df__ = df[df['uin'] == uin][['uin', 'kill_time', f'{f}_range_diff']]\n",
    "    df_temp = df__.groupby(['kill_time'])[f'{f}_range_diff'].agg([\n",
    "    (f'{f}_range_max', 'max'),     \n",
    "    (f'{f}_range_min', 'min'),\n",
    "    (f'{f}_range_mean', 'mean'),\n",
    "    (f'{f}_range_std', 'std'),\n",
    "    (f'{f}_range_skew', 'skew'),\n",
    "        ]).reset_index()\n",
    "    df_temp['uin'] = uin\n",
    "    agg_list.append(df_temp)\n",
    "del df[f'{f}_range_diff']\n",
    "\n",
    "df_temp = pd.concat(agg_list, axis=0)\n",
    "del agg_list\n",
    "df_ = pd.merge(df_, df_temp, on=['uin', 'kill_time'], how='left')\n",
    "del df_temp"
   ]
  },
  {
   "cell_type": "code",
   "execution_count": 7,
   "metadata": {},
   "outputs": [
    {
     "name": "stderr",
     "output_type": "stream",
     "text": [
      "100%|████████████████████████████████████| 10000/10000 [17:31<00:00,  9.51it/s]\n"
     ]
    }
   ],
   "source": [
    "agg_list = []\n",
    "for uin in tqdm(set(df['uin'])):\n",
    "    df__ = df[df['uin'] == uin][['kill_time', 'weapon_id']]\n",
    "    df_temp = df__.groupby(['kill_time'])['weapon_id'].agg([\n",
    "        ('weapon_id_nunique', 'nunique'),     \n",
    "        ])\n",
    "    df_temp['uin'] = uin\n",
    "    df_temp = pd.merge(df_temp, df__.drop_duplicates('kill_time'), on=['kill_time'], how='left')\n",
    "    agg_list.append(df_temp)\n",
    "df_temp = pd.concat(agg_list, axis=0)\n",
    "del agg_list\n",
    "df_ = pd.merge(df_, df_temp, on=['uin', 'kill_time'], how='left')\n",
    "del df_temp"
   ]
  },
  {
   "cell_type": "code",
   "execution_count": 8,
   "metadata": {},
   "outputs": [
    {
     "name": "stderr",
     "output_type": "stream",
     "text": [
      "100%|████████████████████████████████████| 10000/10000 [17:50<00:00,  9.34it/s]\n",
      "100%|████████████████████████████████████| 10000/10000 [17:53<00:00,  9.31it/s]\n"
     ]
    }
   ],
   "source": [
    "for f in ['yaw_r', 'pitch_r']:\n",
    "    agg_list = []\n",
    "    for uin in tqdm(set(df['uin'])):\n",
    "        df__ = df[df['uin'] == uin][['uin', 'kill_time', f]]\n",
    "        df_temp = df__.groupby(['kill_time'])[f].agg([\n",
    "        (f'{f}_max', 'max'),     \n",
    "        (f'{f}_min', 'min'),\n",
    "        (f'{f}_mean', 'mean'),\n",
    "        (f'{f}_std', 'std'),\n",
    "        (f'{f}_skew', 'skew'),\n",
    "            ]).reset_index()\n",
    "        df_temp['uin'] = uin\n",
    "        agg_list.append(df_temp)\n",
    "    df_temp = pd.concat(agg_list, axis=0)\n",
    "    del agg_list\n",
    "    df_ = pd.merge(df_, df_temp, on=['uin', 'kill_time'], how='left')\n",
    "    del df_temp"
   ]
  },
  {
   "cell_type": "code",
   "execution_count": 9,
   "metadata": {},
   "outputs": [
    {
     "name": "stderr",
     "output_type": "stream",
     "text": [
      "100%|████████████████████████████████████| 10000/10000 [16:54<00:00,  9.86it/s]\n"
     ]
    }
   ],
   "source": [
    "agg_list = []\n",
    "for uin in tqdm(set(df['uin'])):\n",
    "    df__ = df[df['uin'] == uin][['kill_time', 'type', 'index']]\n",
    "    df__.reset_index(drop=True, inplace=True)\n",
    "    \n",
    "    df_temp = df__.groupby(['kill_time'])['type'].agg([\n",
    "        ('type_nunique', 'nunique'),     \n",
    "        ])\n",
    "    df_temp['uin'] = uin\n",
    "    agg_list.append(df_temp)\n",
    "df_temp = pd.concat(agg_list, axis=0)\n",
    "del agg_list\n",
    "df_ = pd.merge(df_, df_temp, on=['uin', 'kill_time'], how='left')\n",
    "del df_temp"
   ]
  },
  {
   "cell_type": "code",
   "execution_count": 10,
   "metadata": {},
   "outputs": [
    {
     "name": "stderr",
     "output_type": "stream",
     "text": [
      "100%|████████████████████████████████████| 10000/10000 [18:00<00:00,  9.26it/s]\n"
     ]
    },
    {
     "name": "stdout",
     "output_type": "stream",
     "text": [
      "df_w2v:(8, 11)\n"
     ]
    },
    {
     "name": "stderr",
     "output_type": "stream",
     "text": [
      "100%|████████████████████████████████████| 10000/10000 [24:23<00:00,  6.83it/s]\n"
     ]
    }
   ],
   "source": [
    "from gensim.models import Word2Vec\n",
    "import multiprocessing\n",
    "\n",
    "agg_list = []\n",
    "target = 'type'\n",
    "for uin in tqdm(set(df['uin'])):\n",
    "    df__ = df[df['uin'] == uin][['kill_time', target]]\n",
    "    df__.reset_index(drop=True, inplace=True)\n",
    "    df__[target] = df__[target].astype('str')\n",
    "    df__ = df__.groupby('kill_time', as_index=False)[target].agg({'list':(lambda x: list(x))}).reset_index(drop=True)\n",
    "    agg_list.append(df__)\n",
    "df_bag = pd.concat(agg_list, axis=0)\n",
    "doc_list = list(df_bag['list'].values)\n",
    "w2v = Word2Vec(doc_list, size=10, window=3, min_count=1, workers=multiprocessing.cpu_count())\n",
    "vocab_keys = list(w2v.wv.vocab.keys())\n",
    "w2v_array = []\n",
    "for v in vocab_keys:\n",
    "    w2v_array.append(list(w2v.wv[v]))\n",
    "df_w2v = pd.DataFrame()\n",
    "df_w2v['vocab_keys'] = vocab_keys\n",
    "df_w2v = pd.concat([df_w2v, pd.DataFrame(w2v_array)], axis=1)\n",
    "df_w2v.columns = [target] + ['w2v_%s_%d'%(target, x) for x in range(10)]\n",
    "print('df_w2v:' + str(df_w2v.shape))\n",
    "del df_bag\n",
    "df_w2v[target] = df_w2v[target].astype('int8')\n",
    "df = pd.merge(df, df_w2v, on=target, how='left')\n",
    "\n",
    "agg_list = []\n",
    "for uin in tqdm(set(df['uin'])):\n",
    "    df__ = df[df['uin'] == uin][['kill_time'] +['w2v_%s_%d'%(target, x) for x in range(10)]]\n",
    "    df__.reset_index(drop=True, inplace=True)\n",
    "    df_temp = df__.drop_duplicates('kill_time')[['kill_time']]\n",
    "    for i in range(10):\n",
    "        d = df__.groupby(['kill_time'])['w2v_%s_%d'%(target, i)].agg([\n",
    "            (f'{target}_w2v_mean_{i}', 'mean'),     \n",
    "            ])\n",
    "        df_temp = pd.merge(df_temp, d, on='kill_time', how='left')\n",
    "    df_temp['uin'] = uin\n",
    "    agg_list.append(df_temp)\n",
    "df_temp = pd.concat(agg_list, axis=0)\n",
    "del agg_list\n",
    "df_ = pd.merge(df_, df_temp, on=['uin', 'kill_time'], how='left')\n",
    "del df_temp"
   ]
  },
  {
   "cell_type": "code",
   "execution_count": 11,
   "metadata": {
    "collapsed": true
   },
   "outputs": [],
   "source": [
    "df_w2v.to_csv('type_w2v.csv', index=False)"
   ]
  },
  {
   "cell_type": "code",
   "execution_count": 16,
   "metadata": {
    "collapsed": true
   },
   "outputs": [],
   "source": [
    "df_temp = df_.groupby('uin')['kill_time'].agg([\n",
    "        ('kill_time_max', 'max'),\n",
    "        ('kill_time_min', 'min'),    \n",
    "        ('kill_time_range_max', lambda x: x.diff().max()), \n",
    "        ('kill_time_range_min', lambda x: x.diff().min()),\n",
    "        ('kill_time_range_mean', lambda x: x.diff().mean()),\n",
    "        ('kill_time_range_std', lambda x: x.diff().std()),\n",
    "        ('kill_time_range_skew', lambda x: x.diff().skew()),\n",
    "        ])\n",
    "df_ = pd.merge(df_, df_temp, on='uin', how='left')\n",
    "df_['kill_time_diff'] = df_['kill_time_max'] - df_['kill_time_min']\n",
    "df_['kill_count'] = df_.groupby('uin')['kill_time'].transform('count')\n",
    "df_['kill_time_ratio'] = df_['kill_time_diff'] / df_['kill_count']\n",
    "del df_temp"
   ]
  },
  {
   "cell_type": "code",
   "execution_count": 17,
   "metadata": {},
   "outputs": [
    {
     "name": "stderr",
     "output_type": "stream",
     "text": [
      "100%|████████████████████████████████████| 10000/10000 [18:07<00:00,  9.19it/s]\n"
     ]
    }
   ],
   "source": [
    "df['yaw_difference'] = df['yaw'] - df['yaw_r']\n",
    "f = 'yaw'\n",
    "df_temp = df.groupby(['uin', 'kill_time'])[f'{f}'].agg([\n",
    "    (f'{f}_range_diff', 'diff'), \n",
    "     ])\n",
    "df[f'{f}_range_diff'] = df_temp[f'{f}_range_diff']\n",
    "agg_list = []\n",
    "for uin in tqdm(set(df['uin'])):\n",
    "    df__ = df[df['uin'] == uin][['uin', 'kill_time', f'{f}_range_diff']]\n",
    "    df_temp = df__.groupby(['kill_time'])[f'{f}_range_diff'].agg([\n",
    "    (f'{f}_range_max', 'max'),     \n",
    "    (f'{f}_range_min', 'min'),\n",
    "    (f'{f}_range_mean', 'mean'),\n",
    "    (f'{f}_range_std', 'std'),\n",
    "    (f'{f}_range_skew', 'skew'),\n",
    "        ]).reset_index()\n",
    "    df_temp['uin'] = uin\n",
    "    agg_list.append(df_temp)\n",
    "del df[f'{f}_range_diff']\n",
    "\n",
    "df_temp = pd.concat(agg_list, axis=0)\n",
    "del agg_list\n",
    "df_ = pd.merge(df_, df_temp, on=['uin', 'kill_time'], how='left')\n",
    "del df_temp"
   ]
  },
  {
   "cell_type": "code",
   "execution_count": 18,
   "metadata": {},
   "outputs": [
    {
     "data": {
      "text/plain": [
       "Index(['uin', 'label', 'kill_time', 'pitch_r_range_max', 'pitch_r_range_min',\n",
       "       'pitch_r_range_mean', 'pitch_r_range_std', 'pitch_r_range_skew',\n",
       "       'yaw_r_range_max', 'yaw_r_range_min', 'yaw_r_range_mean',\n",
       "       'yaw_r_range_std', 'yaw_r_range_skew', 'weapon_id_nunique', 'weapon_id',\n",
       "       'yaw_r_max', 'yaw_r_min', 'yaw_r_mean', 'yaw_r_std', 'yaw_r_skew',\n",
       "       'pitch_r_max', 'pitch_r_min', 'pitch_r_mean', 'pitch_r_std',\n",
       "       'pitch_r_skew', 'type_nunique', 'type_w2v_mean_0', 'type_w2v_mean_1',\n",
       "       'type_w2v_mean_2', 'type_w2v_mean_3', 'type_w2v_mean_4',\n",
       "       'type_w2v_mean_5', 'type_w2v_mean_6', 'type_w2v_mean_7',\n",
       "       'type_w2v_mean_8', 'type_w2v_mean_9', 'kill_time_max', 'kill_time_min',\n",
       "       'kill_time_range_max', 'kill_time_range_min', 'kill_time_range_mean',\n",
       "       'kill_time_range_std', 'kill_time_range_skew', 'kill_time_diff',\n",
       "       'kill_count', 'kill_time_ratio', 'yaw_range_max', 'yaw_range_min',\n",
       "       'yaw_range_mean', 'yaw_range_std', 'yaw_range_skew'],\n",
       "      dtype='object')"
      ]
     },
     "execution_count": 18,
     "metadata": {},
     "output_type": "execute_result"
    }
   ],
   "source": [
    "df_.columns"
   ]
  },
  {
   "cell_type": "code",
   "execution_count": 19,
   "metadata": {},
   "outputs": [
    {
     "name": "stderr",
     "output_type": "stream",
     "text": [
      "100%|████████████████████████████████████| 10000/10000 [17:57<00:00,  9.28it/s]\n",
      "100%|████████████████████████████████████| 10000/10000 [17:58<00:00,  9.27it/s]\n"
     ]
    }
   ],
   "source": [
    "for f in ['yaw', 'yaw_difference']:\n",
    "    agg_list = []\n",
    "    for uin in tqdm(set(df['uin'])):\n",
    "        df__ = df[df['uin'] == uin][['uin', 'kill_time', f]]\n",
    "        df_temp = df__.groupby(['kill_time'])[f].agg([\n",
    "        (f'{f}_max', 'max'),     \n",
    "        (f'{f}_min', 'min'),\n",
    "        (f'{f}_mean', 'mean'),\n",
    "        (f'{f}_std', 'std'),\n",
    "        (f'{f}_skew', 'skew'),\n",
    "            ]).reset_index()\n",
    "        df_temp['uin'] = uin\n",
    "        agg_list.append(df_temp)\n",
    "    df_temp = pd.concat(agg_list, axis=0)\n",
    "    del agg_list\n",
    "    df_ = pd.merge(df_, df_temp, on=['uin', 'kill_time'], how='left')\n",
    "    del df_temp"
   ]
  },
  {
   "cell_type": "code",
   "execution_count": 20,
   "metadata": {
    "collapsed": true
   },
   "outputs": [],
   "source": [
    "df_.to_pickle('train_feature_10000_2.pkl')"
   ]
  },
  {
   "cell_type": "code",
   "execution_count": null,
   "metadata": {
    "collapsed": true
   },
   "outputs": [],
   "source": []
  }
 ],
 "metadata": {
  "kernelspec": {
   "display_name": "Python 3",
   "language": "python",
   "name": "python3"
  },
  "language_info": {
   "codemirror_mode": {
    "name": "ipython",
    "version": 3
   },
   "file_extension": ".py",
   "mimetype": "text/x-python",
   "name": "python",
   "nbconvert_exporter": "python",
   "pygments_lexer": "ipython3",
   "version": "3.6.1"
  }
 },
 "nbformat": 4,
 "nbformat_minor": 2
}
